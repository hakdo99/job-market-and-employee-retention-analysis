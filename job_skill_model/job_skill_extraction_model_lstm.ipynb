{
  "cells": [
    {
      "cell_type": "markdown",
      "metadata": {
        "id": "Zxl-BWAYMQbT"
      },
      "source": [
        "## **Training job skill extraction model**\n",
        "\n",
        "Installing the required libraries"
      ]
    },
    {
      "cell_type": "code",
      "execution_count": 1,
      "metadata": {
        "colab": {
          "base_uri": "https://localhost:8080/"
        },
        "id": "ZJ4_LOo5Guxj",
        "outputId": "d300f241-55b1-4808-dcaf-5bbe41b6efab"
      },
      "outputs": [
        {
          "name": "stdout",
          "output_type": "stream",
          "text": [
            "Defaulting to user installation because normal site-packages is not writeable\n",
            "Requirement already satisfied: contractions in /home/ytc17/.local/lib/python3.9/site-packages (0.1.68)\n",
            "Requirement already satisfied: textsearch>=0.0.21 in /home/ytc17/.local/lib/python3.9/site-packages (from contractions) (0.0.21)\n",
            "Requirement already satisfied: anyascii in /home/ytc17/.local/lib/python3.9/site-packages (from textsearch>=0.0.21->contractions) (0.3.0)\n",
            "Requirement already satisfied: pyahocorasick in /home/ytc17/.local/lib/python3.9/site-packages (from textsearch>=0.0.21->contractions) (1.4.4)\n",
            "Note: you may need to restart the kernel to use updated packages.\n",
            "Defaulting to user installation because normal site-packages is not writeable\n",
            "Requirement already satisfied: bert-for-tf2 in /home/ytc17/.local/lib/python3.9/site-packages (0.14.9)\n",
            "Requirement already satisfied: params-flow>=0.8.0 in /home/ytc17/.local/lib/python3.9/site-packages (from bert-for-tf2) (0.8.2)\n",
            "Requirement already satisfied: py-params>=0.9.6 in /home/ytc17/.local/lib/python3.9/site-packages (from bert-for-tf2) (0.10.2)\n",
            "Requirement already satisfied: tqdm in /usr/shared/CMPT/big-data/condaenv/gt/lib/python3.9/site-packages (from params-flow>=0.8.0->bert-for-tf2) (4.63.1)\n",
            "Requirement already satisfied: numpy in /home/ytc17/.local/lib/python3.9/site-packages (from params-flow>=0.8.0->bert-for-tf2) (1.21.5)\n",
            "Note: you may need to restart the kernel to use updated packages.\n",
            "Defaulting to user installation because normal site-packages is not writeable\n",
            "Requirement already satisfied: tqdm in /usr/shared/CMPT/big-data/condaenv/gt/lib/python3.9/site-packages (4.63.1)\n",
            "Note: you may need to restart the kernel to use updated packages.\n",
            "Defaulting to user installation because normal site-packages is not writeable\n",
            "Requirement already satisfied: tensorflow_hub in /home/ytc17/.local/lib/python3.9/site-packages (0.12.0)\n",
            "Requirement already satisfied: protobuf>=3.8.0 in /usr/shared/CMPT/big-data/condaenv/gt/lib/python3.9/site-packages (from tensorflow_hub) (3.19.4)\n",
            "Requirement already satisfied: numpy>=1.12.0 in /home/ytc17/.local/lib/python3.9/site-packages (from tensorflow_hub) (1.21.5)\n",
            "Note: you may need to restart the kernel to use updated packages.\n"
          ]
        }
      ],
      "source": [
        "%pip install contractions\n",
        "%pip install bert-for-tf2\n",
        "%pip install tqdm\n",
        "%pip install tensorflow_hub"
      ]
    },
    {
      "cell_type": "code",
      "execution_count": 2,
      "metadata": {
        "id": "hvbDOyKenQ7f"
      },
      "outputs": [
        {
          "name": "stderr",
          "output_type": "stream",
          "text": [
            "Matplotlib is building the font cache; this may take a moment.\n"
          ]
        }
      ],
      "source": [
        "import pandas as pd \n",
        "import numpy as np\n",
        "import matplotlib.pyplot as plt\n",
        "from sklearn.model_selection import train_test_split\n",
        "from tqdm import tqdm_notebook \n",
        "\n",
        "# Upgrade from TF1 to TF2 for bert implementation\n",
        "# tensorflow_version 2.8.0\n",
        "import tensorflow as tf\n",
        "import tensorflow_hub as hub\n",
        "import bert\n",
        "from tensorflow import keras\n",
        "from tensorflow.keras.layers import Input\n",
        "\n",
        "# Params for bert model and tokenization\n",
        "bert_path = \"https://tfhub.dev/google/bert_uncased_L-12_H-768_A-12/1\""
      ]
    },
    {
      "cell_type": "code",
      "execution_count": 3,
      "metadata": {
        "colab": {
          "base_uri": "https://localhost:8080/"
        },
        "id": "1OIP8fkdG5_-",
        "outputId": "480a2883-7e11-4ce1-a02d-580649ae885b"
      },
      "outputs": [
        {
          "name": "stdout",
          "output_type": "stream",
          "text": [
            "2.7.0\n",
            "0.12.0\n"
          ]
        }
      ],
      "source": [
        "print(tf.__version__)\n",
        "print(hub.__version__)"
      ]
    },
    {
      "cell_type": "code",
      "execution_count": 4,
      "metadata": {
        "colab": {
          "base_uri": "https://localhost:8080/"
        },
        "id": "TvNceYUWHNDM",
        "outputId": "64619316-a827-4c8d-8b6f-31822816a4f3"
      },
      "outputs": [
        {
          "name": "stdout",
          "output_type": "stream",
          "text": [
            "[PhysicalDevice(name='/physical_device:GPU:0', device_type='GPU')]\n",
            "/device:GPU:0\n"
          ]
        },
        {
          "name": "stderr",
          "output_type": "stream",
          "text": [
            "2022-04-07 07:51:25.239741: I tensorflow/stream_executor/cuda/cuda_gpu_executor.cc:939] successful NUMA node read from SysFS had negative value (-1), but there must be at least one NUMA node, so returning NUMA node zero\n",
            "2022-04-07 07:51:26.096592: I tensorflow/stream_executor/cuda/cuda_gpu_executor.cc:939] successful NUMA node read from SysFS had negative value (-1), but there must be at least one NUMA node, so returning NUMA node zero\n",
            "2022-04-07 07:51:26.097233: I tensorflow/stream_executor/cuda/cuda_gpu_executor.cc:939] successful NUMA node read from SysFS had negative value (-1), but there must be at least one NUMA node, so returning NUMA node zero\n",
            "2022-04-07 07:51:26.150808: I tensorflow/core/platform/cpu_feature_guard.cc:151] This TensorFlow binary is optimized with oneAPI Deep Neural Network Library (oneDNN) to use the following CPU instructions in performance-critical operations:  SSE4.1 SSE4.2 AVX AVX2 FMA\n",
            "To enable them in other operations, rebuild TensorFlow with the appropriate compiler flags.\n",
            "2022-04-07 07:51:26.154565: I tensorflow/stream_executor/cuda/cuda_gpu_executor.cc:939] successful NUMA node read from SysFS had negative value (-1), but there must be at least one NUMA node, so returning NUMA node zero\n",
            "2022-04-07 07:51:26.155246: I tensorflow/stream_executor/cuda/cuda_gpu_executor.cc:939] successful NUMA node read from SysFS had negative value (-1), but there must be at least one NUMA node, so returning NUMA node zero\n",
            "2022-04-07 07:51:26.155820: I tensorflow/stream_executor/cuda/cuda_gpu_executor.cc:939] successful NUMA node read from SysFS had negative value (-1), but there must be at least one NUMA node, so returning NUMA node zero\n",
            "2022-04-07 07:51:29.291030: I tensorflow/stream_executor/cuda/cuda_gpu_executor.cc:939] successful NUMA node read from SysFS had negative value (-1), but there must be at least one NUMA node, so returning NUMA node zero\n",
            "2022-04-07 07:51:29.291181: I tensorflow/stream_executor/cuda/cuda_gpu_executor.cc:939] successful NUMA node read from SysFS had negative value (-1), but there must be at least one NUMA node, so returning NUMA node zero\n",
            "2022-04-07 07:51:29.291294: I tensorflow/stream_executor/cuda/cuda_gpu_executor.cc:939] successful NUMA node read from SysFS had negative value (-1), but there must be at least one NUMA node, so returning NUMA node zero\n",
            "2022-04-07 07:51:29.292690: I tensorflow/core/common_runtime/gpu/gpu_device.cc:1525] Created device /device:GPU:0 with 6628 MB memory:  -> device: 0, name: NVIDIA GeForce RTX 2080, pci bus id: 0000:01:00.0, compute capability: 7.5\n"
          ]
        }
      ],
      "source": [
        "print(tf.config.list_physical_devices('GPU'))\n",
        "print(tf.test.gpu_device_name())"
      ]
    },
    {
      "cell_type": "code",
      "execution_count": 5,
      "metadata": {
        "colab": {
          "base_uri": "https://localhost:8080/"
        },
        "id": "kEco9ESCnlnf",
        "outputId": "3ed23a63-4313-47a6-fcce-86f5cff636b2"
      },
      "outputs": [],
      "source": [
        "colab_used = False\n",
        "if colab_used:\n",
        "    from google.colab import drive\n",
        "    drive.mount('/content/drive')"
      ]
    },
    {
      "cell_type": "markdown",
      "metadata": {
        "id": "CsVqAvczMhXx"
      },
      "source": [
        "###Data Import and Pre-processing"
      ]
    },
    {
      "cell_type": "code",
      "execution_count": 6,
      "metadata": {
        "id": "pVT1TRIPHz1n"
      },
      "outputs": [],
      "source": [
        "input_path_colab = \"/content/drive/MyDrive/SFU/CMPT733/project/processing/\"\n",
        "input_path_lab = \"processing/\"\n",
        "\n",
        "input_path = input_path_colab if colab_used else input_path_lab\n",
        "\n",
        "input_file = \"new_consolidated_records1_2022-03-26 173511_labelled.csv\""
      ]
    },
    {
      "cell_type": "code",
      "execution_count": 7,
      "metadata": {
        "colab": {
          "base_uri": "https://localhost:8080/"
        },
        "id": "3M5GWEY8mvYy",
        "outputId": "d45de813-5366-4345-a305-7b3944540d35"
      },
      "outputs": [
        {
          "name": "stderr",
          "output_type": "stream",
          "text": [
            "/tmp/ipykernel_36368/3750856104.py:1: FutureWarning: The error_bad_lines argument has been deprecated and will be removed in a future version. Use on_bad_lines in the future.\n",
            "\n",
            "\n",
            "  df1 = pd.read_csv(input_path+input_file, error_bad_lines = True)\n"
          ]
        }
      ],
      "source": [
        "df1 = pd.read_csv(input_path+input_file, error_bad_lines = True)\n",
        "#df2 = pd.read_csv(input_path+input_file_invalid, error_bad_lines = True)\n",
        "\n",
        "#train_data = pd.concat([df1, df2], ignore_index=True)\n",
        "train_data = df1\n",
        "\n",
        "train_data.sample(100, random_state = 5)\n",
        "train_data['text'] = train_data.text.str.strip()\n",
        "train_data = train_data[train_data.text.str.strip()!='']"
      ]
    },
    {
      "cell_type": "code",
      "execution_count": 8,
      "metadata": {
        "colab": {
          "base_uri": "https://localhost:8080/",
          "height": 424
        },
        "id": "gfHutkpGBWQt",
        "outputId": "7fbad5e3-7ba8-48a0-874e-c0b9e8ecb9e2"
      },
      "outputs": [
        {
          "data": {
            "text/html": [
              "<div>\n",
              "<style scoped>\n",
              "    .dataframe tbody tr th:only-of-type {\n",
              "        vertical-align: middle;\n",
              "    }\n",
              "\n",
              "    .dataframe tbody tr th {\n",
              "        vertical-align: top;\n",
              "    }\n",
              "\n",
              "    .dataframe thead th {\n",
              "        text-align: right;\n",
              "    }\n",
              "</style>\n",
              "<table border=\"1\" class=\"dataframe\">\n",
              "  <thead>\n",
              "    <tr style=\"text-align: right;\">\n",
              "      <th></th>\n",
              "      <th>Unnamed: 0</th>\n",
              "      <th>text</th>\n",
              "      <th>skill</th>\n",
              "    </tr>\n",
              "  </thead>\n",
              "  <tbody>\n",
              "    <tr>\n",
              "      <th>2951</th>\n",
              "      <td>2903</td>\n",
              "      <td>financial advisor roles</td>\n",
              "      <td>1</td>\n",
              "    </tr>\n",
              "    <tr>\n",
              "      <th>5901</th>\n",
              "      <td>5807</td>\n",
              "      <td>progressive hr</td>\n",
              "      <td>1</td>\n",
              "    </tr>\n",
              "    <tr>\n",
              "      <th>6377</th>\n",
              "      <td>6280</td>\n",
              "      <td>retention policies</td>\n",
              "      <td>1</td>\n",
              "    </tr>\n",
              "    <tr>\n",
              "      <th>3833</th>\n",
              "      <td>3776</td>\n",
              "      <td>innate</td>\n",
              "      <td>0</td>\n",
              "    </tr>\n",
              "    <tr>\n",
              "      <th>1147</th>\n",
              "      <td>1125</td>\n",
              "      <td>change</td>\n",
              "      <td>0</td>\n",
              "    </tr>\n",
              "    <tr>\n",
              "      <th>...</th>\n",
              "      <td>...</td>\n",
              "      <td>...</td>\n",
              "      <td>...</td>\n",
              "    </tr>\n",
              "    <tr>\n",
              "      <th>4424</th>\n",
              "      <td>4363</td>\n",
              "      <td>market insight</td>\n",
              "      <td>1</td>\n",
              "    </tr>\n",
              "    <tr>\n",
              "      <th>4813</th>\n",
              "      <td>4747</td>\n",
              "      <td>multiple roles</td>\n",
              "      <td>0</td>\n",
              "    </tr>\n",
              "    <tr>\n",
              "      <th>4683</th>\n",
              "      <td>4620</td>\n",
              "      <td>modeling ability</td>\n",
              "      <td>1</td>\n",
              "    </tr>\n",
              "    <tr>\n",
              "      <th>5894</th>\n",
              "      <td>5800</td>\n",
              "      <td>programs</td>\n",
              "      <td>1</td>\n",
              "    </tr>\n",
              "    <tr>\n",
              "      <th>5278</th>\n",
              "      <td>5198</td>\n",
              "      <td>our home office recruitment</td>\n",
              "      <td>1</td>\n",
              "    </tr>\n",
              "  </tbody>\n",
              "</table>\n",
              "<p>100 rows × 3 columns</p>\n",
              "</div>"
            ],
            "text/plain": [
              "      Unnamed: 0                         text  skill\n",
              "2951        2903      financial advisor roles      1\n",
              "5901        5807               progressive hr      1\n",
              "6377        6280           retention policies      1\n",
              "3833        3776                       innate      0\n",
              "1147        1125                       change      0\n",
              "...          ...                          ...    ...\n",
              "4424        4363               market insight      1\n",
              "4813        4747               multiple roles      0\n",
              "4683        4620             modeling ability      1\n",
              "5894        5800                     programs      1\n",
              "5278        5198  our home office recruitment      1\n",
              "\n",
              "[100 rows x 3 columns]"
            ]
          },
          "execution_count": 8,
          "metadata": {},
          "output_type": "execute_result"
        }
      ],
      "source": [
        "train_data.sample(100, random_state = 5)"
      ]
    },
    {
      "cell_type": "code",
      "execution_count": 9,
      "metadata": {
        "colab": {
          "base_uri": "https://localhost:8080/"
        },
        "id": "NqNAds8-5oFE",
        "outputId": "668fe5a5-d5bf-4742-857c-2e40d335816f"
      },
      "outputs": [
        {
          "data": {
            "text/plain": [
              "1    5800\n",
              "0    2143\n",
              "Name: skill, dtype: int64"
            ]
          },
          "execution_count": 9,
          "metadata": {},
          "output_type": "execute_result"
        }
      ],
      "source": [
        "train_data['skill'].value_counts()"
      ]
    },
    {
      "cell_type": "code",
      "execution_count": 10,
      "metadata": {
        "colab": {
          "base_uri": "https://localhost:8080/"
        },
        "id": "KPJNc9MHJ_fC",
        "outputId": "541aa5c2-d024-4c3f-f5b8-3db87b893289"
      },
      "outputs": [
        {
          "name": "stdout",
          "output_type": "stream",
          "text": [
            "Number of skill: 5800\n",
            "Number of Not Skill: 2143\n",
            "Ratio of classes: Skill= 0.7302026941961476  Not Skill= 0.2697973058038524\n"
          ]
        }
      ],
      "source": [
        "# ratio of classes; checking for balance in training data \n",
        "print('Number of skill:', train_data['skill'].sum())\n",
        "print('Number of Not Skill:', len(train_data['skill']) - train_data['skill'].sum())\n",
        "print('Ratio of classes: Skill=', train_data['skill'].sum() / len(train_data['skill']), ' Not Skill=', 1 - train_data['skill'].sum() / len(train_data['skill']))"
      ]
    },
    {
      "cell_type": "markdown",
      "metadata": {
        "id": "7KFhUA-UNEDQ"
      },
      "source": [
        "### Model Training"
      ]
    },
    {
      "cell_type": "code",
      "execution_count": 21,
      "metadata": {
        "colab": {
          "base_uri": "https://localhost:8080/"
        },
        "id": "DjPq33ZMKggk",
        "outputId": "304a3093-846d-4290-ba0d-8f0e1aac33ed"
      },
      "outputs": [
        {
          "name": "stdout",
          "output_type": "stream",
          "text": [
            "6,354 training samples\n",
            "1,589 validation samples\n",
            "<class 'pandas.core.series.Series'>\n",
            "<class 'pandas.core.series.Series'>\n"
          ]
        }
      ],
      "source": [
        "# splitting data 1st iter 85/15 2nd iter 80/20 \n",
        "# ensuring shuffling due to the sequentual nature of the training set\n",
        "X = train_data[\"text\"]\n",
        "y = train_data[\"skill\"]\n",
        "\n",
        "X_train, X_test, y_train, y_test = train_test_split(\n",
        "                                                    X, y, \n",
        "                                                    test_size = .2,\n",
        "                                                    random_state = 42,\n",
        "                                                    shuffle = True\n",
        "                                                    )\n",
        "\n",
        "print('{:>5,} training samples'.format(len(X_train)))\n",
        "print('{:>5,} validation samples'.format(len(X_test)))\n",
        "\n",
        "print(type(X_train))\n",
        "print(type(X))"
      ]
    },
    {
      "cell_type": "code",
      "execution_count": 12,
      "metadata": {
        "colab": {
          "base_uri": "https://localhost:8080/"
        },
        "id": "GZmMWudhLeLC",
        "outputId": "56b4747a-6193-458f-e705-7445d021708f"
      },
      "outputs": [
        {
          "name": "stderr",
          "output_type": "stream",
          "text": [
            "/tmp/ipykernel_36368/1553795918.py:4: FutureWarning: Support for multi-dimensional indexing (e.g. `obj[:, None]`) is deprecated and will be removed in a future version.  Convert to a numpy array before indexing instead.\n",
            "  train_text = X_train[:, np.newaxis]\n",
            "/tmp/ipykernel_36368/1553795918.py:5: FutureWarning: Support for multi-dimensional indexing (e.g. `obj[:, None]`) is deprecated and will be removed in a future version.  Convert to a numpy array before indexing instead.\n",
            "  test_text = X_test[:, np.newaxis]\n"
          ]
        },
        {
          "data": {
            "text/plain": [
              "((6354, 1), (1589, 1))"
            ]
          },
          "execution_count": 12,
          "metadata": {},
          "output_type": "execute_result"
        }
      ],
      "source": [
        "# According to analysis the largest chunk captured by regex was 18 tokens long\n",
        "max_seq_length = 18\n",
        "# data should be np array with new dimension for input \n",
        "train_text = X_train[:, np.newaxis]\n",
        "test_text = X_test[:, np.newaxis]\n",
        "# always should check and check again\n",
        "train_text.shape, test_text.shape"
      ]
    },
    {
      "cell_type": "markdown",
      "metadata": {
        "id": "bXmzpd9iMIOR"
      },
      "source": [
        "### Tokenization"
      ]
    },
    {
      "cell_type": "code",
      "execution_count": 13,
      "metadata": {},
      "outputs": [],
      "source": [
        "from keras.preprocessing.text import Tokenizer\n",
        "num_words = 5000\n",
        "max_length =18\n",
        "tokenizer = Tokenizer(num_words=num_words)\n",
        "tokenizer.fit_on_texts(X_train)\n",
        "word_index = tokenizer.word_index\n",
        "\n",
        "train_sequences = tokenizer.texts_to_sequences(X_train)\n",
        "\n",
        "from keras.preprocessing.sequence import pad_sequences\n",
        "\n",
        "train_padded = pad_sequences(\n",
        "    train_sequences, maxlen=max_length, padding=\"post\", truncating=\"post\"\n",
        ")\n",
        "\n"
      ]
    },
    {
      "cell_type": "markdown",
      "metadata": {},
      "source": [
        "### Embedding"
      ]
    },
    {
      "cell_type": "code",
      "execution_count": 14,
      "metadata": {},
      "outputs": [],
      "source": [
        "\"\"\"Creates an embedding dictionary using GloVe\"\"\"\n",
        "embedding_dict={}\n",
        "with open('glove.6B.100d.txt','r') as f:\n",
        "    for line in f:\n",
        "        values=line.split()\n",
        "        word=values[0]\n",
        "        vectors=np.asarray(values[1:],'float32')\n",
        "        embedding_dict[word]=vectors\n",
        "f.close()"
      ]
    },
    {
      "cell_type": "code",
      "execution_count": 15,
      "metadata": {},
      "outputs": [
        {
          "name": "stderr",
          "output_type": "stream",
          "text": [
            "/tmp/ipykernel_36368/1013508392.py:3: TqdmDeprecationWarning: This function will be removed in tqdm==5.0.0\n",
            "Please use `tqdm.notebook.tqdm` instead of `tqdm.tqdm_notebook`\n",
            "  for word,i in tqdm_notebook (word_index.items()):\n"
          ]
        },
        {
          "data": {
            "application/vnd.jupyter.widget-view+json": {
              "model_id": "0d50f3d7450547c1aa50e6761b5d0e6d",
              "version_major": 2,
              "version_minor": 0
            },
            "text/plain": [
              "  0%|          | 0/3514 [00:00<?, ?it/s]"
            ]
          },
          "metadata": {},
          "output_type": "display_data"
        }
      ],
      "source": [
        "\"\"\"Creates an embedding matrix, where each vector is the GloVe representation of a word in the corpus\"\"\"\n",
        "embedding_matrix=np.zeros((num_words,100))\n",
        "for word,i in tqdm_notebook (word_index.items()):\n",
        "    if i > num_words:\n",
        "        continue\n",
        "    \n",
        "    emb_vec=embedding_dict.get(word)\n",
        "    if emb_vec is not None:\n",
        "        embedding_matrix[i]=emb_vec"
      ]
    },
    {
      "cell_type": "markdown",
      "metadata": {},
      "source": [
        "### Model Built and Training"
      ]
    },
    {
      "cell_type": "markdown",
      "metadata": {},
      "source": [
        "Performance not as good as the model with BERT Embedding...so will adopt the one with BERT instead"
      ]
    },
    {
      "cell_type": "code",
      "execution_count": 16,
      "metadata": {},
      "outputs": [
        {
          "name": "stdout",
          "output_type": "stream",
          "text": [
            "WARNING:tensorflow:Layer lstm will not use cuDNN kernels since it doesn't meet the criteria. It will use a generic GPU kernel as fallback when running on GPU.\n"
          ]
        },
        {
          "name": "stderr",
          "output_type": "stream",
          "text": [
            "2022-04-07 07:51:53.495567: I tensorflow/stream_executor/cuda/cuda_gpu_executor.cc:939] successful NUMA node read from SysFS had negative value (-1), but there must be at least one NUMA node, so returning NUMA node zero\n",
            "2022-04-07 07:51:53.495745: I tensorflow/stream_executor/cuda/cuda_gpu_executor.cc:939] successful NUMA node read from SysFS had negative value (-1), but there must be at least one NUMA node, so returning NUMA node zero\n",
            "2022-04-07 07:51:53.495854: I tensorflow/stream_executor/cuda/cuda_gpu_executor.cc:939] successful NUMA node read from SysFS had negative value (-1), but there must be at least one NUMA node, so returning NUMA node zero\n",
            "2022-04-07 07:51:53.495993: I tensorflow/stream_executor/cuda/cuda_gpu_executor.cc:939] successful NUMA node read from SysFS had negative value (-1), but there must be at least one NUMA node, so returning NUMA node zero\n",
            "2022-04-07 07:51:53.496101: I tensorflow/stream_executor/cuda/cuda_gpu_executor.cc:939] successful NUMA node read from SysFS had negative value (-1), but there must be at least one NUMA node, so returning NUMA node zero\n",
            "2022-04-07 07:51:53.496196: I tensorflow/core/common_runtime/gpu/gpu_device.cc:1525] Created device /job:localhost/replica:0/task:0/device:GPU:0 with 6628 MB memory:  -> device: 0, name: NVIDIA GeForce RTX 2080, pci bus id: 0000:01:00.0, compute capability: 7.5\n"
          ]
        }
      ],
      "source": [
        "model_embed = tf.keras.models.Sequential([\n",
        "    # Shape [batch, time, features] => [batch, time, lstm_units]\n",
        "    tf.keras.layers.Embedding(num_words,100,embeddings_initializer=keras.initializers.Constant(embedding_matrix),\n",
        "                   input_length=max_length,trainable=False),\n",
        "    tf.keras.layers.SpatialDropout1D(0.2),\n",
        "    tf.keras.layers.LSTM(64, dropout=0.2, recurrent_dropout=0.2),\n",
        "    tf.keras.layers.Dense(units=1, activation='sigmoid')\n",
        "])\n",
        "opt = tf.keras.optimizers.Adam(learning_rate=1e-5)\n",
        "model_embed.compile(loss='binary_crossentropy',optimizer=opt,metrics=['accuracy'])"
      ]
    },
    {
      "cell_type": "code",
      "execution_count": 32,
      "metadata": {},
      "outputs": [
        {
          "name": "stdout",
          "output_type": "stream",
          "text": [
            "Epoch 1/20\n",
            "1271/1271 - 31s - loss: 0.4127 - accuracy: 0.8011 - val_loss: 0.3652 - val_accuracy: 0.8301 - 31s/epoch - 24ms/step\n",
            "Epoch 2/20\n",
            "1271/1271 - 32s - loss: 0.4091 - accuracy: 0.7991 - val_loss: 0.3637 - val_accuracy: 0.8316 - 32s/epoch - 25ms/step\n",
            "Epoch 3/20\n",
            "1271/1271 - 31s - loss: 0.4100 - accuracy: 0.7991 - val_loss: 0.3629 - val_accuracy: 0.8332 - 31s/epoch - 25ms/step\n",
            "Epoch 4/20\n",
            "1271/1271 - 32s - loss: 0.4015 - accuracy: 0.8070 - val_loss: 0.3587 - val_accuracy: 0.8356 - 32s/epoch - 25ms/step\n",
            "Epoch 5/20\n",
            "1271/1271 - 31s - loss: 0.4071 - accuracy: 0.7999 - val_loss: 0.3585 - val_accuracy: 0.8356 - 31s/epoch - 25ms/step\n",
            "Epoch 6/20\n",
            "1271/1271 - 32s - loss: 0.4062 - accuracy: 0.8001 - val_loss: 0.3561 - val_accuracy: 0.8340 - 32s/epoch - 25ms/step\n",
            "Epoch 7/20\n",
            "1271/1271 - 32s - loss: 0.4063 - accuracy: 0.8009 - val_loss: 0.3551 - val_accuracy: 0.8332 - 32s/epoch - 25ms/step\n",
            "Epoch 8/20\n",
            "1271/1271 - 32s - loss: 0.4008 - accuracy: 0.8072 - val_loss: 0.3534 - val_accuracy: 0.8324 - 32s/epoch - 25ms/step\n",
            "Epoch 9/20\n",
            "1271/1271 - 32s - loss: 0.3961 - accuracy: 0.8096 - val_loss: 0.3521 - val_accuracy: 0.8340 - 32s/epoch - 25ms/step\n",
            "Epoch 10/20\n",
            "1271/1271 - 32s - loss: 0.4000 - accuracy: 0.8088 - val_loss: 0.3492 - val_accuracy: 0.8348 - 32s/epoch - 25ms/step\n",
            "Epoch 11/20\n",
            "1271/1271 - 32s - loss: 0.3995 - accuracy: 0.8121 - val_loss: 0.3490 - val_accuracy: 0.8505 - 32s/epoch - 26ms/step\n",
            "Epoch 12/20\n",
            "1271/1271 - 33s - loss: 0.3998 - accuracy: 0.8155 - val_loss: 0.3488 - val_accuracy: 0.8513 - 33s/epoch - 26ms/step\n",
            "Epoch 13/20\n",
            "1271/1271 - 32s - loss: 0.3897 - accuracy: 0.8210 - val_loss: 0.3456 - val_accuracy: 0.8544 - 32s/epoch - 25ms/step\n",
            "Epoch 14/20\n",
            "1271/1271 - 32s - loss: 0.3923 - accuracy: 0.8192 - val_loss: 0.3446 - val_accuracy: 0.8505 - 32s/epoch - 25ms/step\n",
            "Epoch 15/20\n",
            "1271/1271 - 33s - loss: 0.3906 - accuracy: 0.8188 - val_loss: 0.3439 - val_accuracy: 0.8505 - 33s/epoch - 26ms/step\n",
            "Epoch 16/20\n",
            "1271/1271 - 32s - loss: 0.3876 - accuracy: 0.8206 - val_loss: 0.3414 - val_accuracy: 0.8544 - 32s/epoch - 26ms/step\n",
            "Epoch 17/20\n",
            "1271/1271 - 32s - loss: 0.3889 - accuracy: 0.8184 - val_loss: 0.3405 - val_accuracy: 0.8544 - 32s/epoch - 25ms/step\n",
            "Epoch 18/20\n",
            "1271/1271 - 33s - loss: 0.3865 - accuracy: 0.8216 - val_loss: 0.3408 - val_accuracy: 0.8552 - 33s/epoch - 26ms/step\n",
            "Epoch 19/20\n",
            "1271/1271 - 33s - loss: 0.3911 - accuracy: 0.8249 - val_loss: 0.3397 - val_accuracy: 0.8560 - 33s/epoch - 26ms/step\n",
            "Epoch 20/20\n",
            "1271/1271 - 33s - loss: 0.3872 - accuracy: 0.8257 - val_loss: 0.3392 - val_accuracy: 0.8552 - 33s/epoch - 26ms/step\n"
          ]
        }
      ],
      "source": [
        "history=model_embed.fit(train_padded,y_train,batch_size=4,epochs=20,validation_split=0.2,verbose=2)"
      ]
    },
    {
      "cell_type": "code",
      "execution_count": 18,
      "metadata": {
        "id": "jaEmRrBdz01L"
      },
      "outputs": [
        {
          "name": "stderr",
          "output_type": "stream",
          "text": [
            "2022-04-07 08:00:01.946488: W tensorflow/python/util/util.cc:368] Sets are not currently considered sequences, but this may change in the future, so consider avoiding using them.\n"
          ]
        },
        {
          "name": "stdout",
          "output_type": "stream",
          "text": [
            "INFO:tensorflow:Assets written to: processing/job_skill_extraction_bert_lstm/assets\n"
          ]
        },
        {
          "name": "stderr",
          "output_type": "stream",
          "text": [
            "WARNING:absl:<keras.layers.recurrent.LSTMCell object at 0x7f361d295640> has the same name 'LSTMCell' as a built-in Keras object. Consider renaming <class 'keras.layers.recurrent.LSTMCell'> to avoid naming conflicts when loading with `tf.keras.models.load_model`. If renaming is not possible, pass the object in the `custom_objects` parameter of the load function.\n"
          ]
        }
      ],
      "source": [
        "model_embed.save(input_path+\"job_skill_extraction_bert_lstm\")"
      ]
    },
    {
      "cell_type": "markdown",
      "metadata": {
        "id": "8iidoEhv_sDC"
      },
      "source": [
        "## **Model Evaluation**"
      ]
    },
    {
      "cell_type": "code",
      "execution_count": 19,
      "metadata": {
        "id": "-xoMEtC35bLE"
      },
      "outputs": [
        {
          "data": {
            "image/png": "[encoded data removed]",
            "text/plain": [
              "<IPython.core.display.Image object>"
            ]
          },
          "execution_count": 19,
          "metadata": {},
          "output_type": "execute_result"
        }
      ],
      "source": [
        "# After many interations to find an optimal structure this is the result\n",
        "tf.keras.utils.plot_model(model_embed, show_shapes=True, dpi=48)\n"
      ]
    },
    {
      "cell_type": "code",
      "execution_count": 27,
      "metadata": {},
      "outputs": [
        {
          "data": {
            "text/plain": [
              "1163                                   channel management\n",
              "2283                                     digital products\n",
              "7155                               sustainable innovation\n",
              "1421               competitive, demanding business sector\n",
              "3296                                 great and personable\n",
              "                              ...                        \n",
              "3612                            human resource principles\n",
              "339                                                alumni\n",
              "121                                      active employees\n",
              "5151    organization in-depth knowledge and industry r...\n",
              "6779                                             sitstand\n",
              "Name: text, Length: 1589, dtype: string"
            ]
          },
          "execution_count": 27,
          "metadata": {},
          "output_type": "execute_result"
        }
      ],
      "source": [
        "X_test.astype(\"string\")"
      ]
    },
    {
      "cell_type": "code",
      "execution_count": 24,
      "metadata": {},
      "outputs": [
        {
          "data": {
            "text/plain": [
              "1090    capital planning and business requirements\n",
              "3905                                      internal\n",
              "1372                                       company\n",
              "5976                           prospective clients\n",
              "1317                                    colleagues\n",
              "                           ...                    \n",
              "5226                          other related fields\n",
              "5390                                  packing work\n",
              "860                                         branch\n",
              "7603                       unit testing principles\n",
              "7270                    technical and professional\n",
              "Name: text, Length: 6354, dtype: object"
            ]
          },
          "execution_count": 24,
          "metadata": {},
          "output_type": "execute_result"
        }
      ],
      "source": [
        "X_train"
      ]
    },
    {
      "cell_type": "code",
      "execution_count": 39,
      "metadata": {
        "id": "F5cbmPTQ_zFz"
      },
      "outputs": [
        {
          "name": "stdout",
          "output_type": "stream",
          "text": [
            "50/50 [==============================] - 0s 8ms/step - loss: 0.7303 - accuracy: 0.6545\n",
            "Test set\n",
            "  Loss: 0.730\n",
            "  Accuracy: 0.654\n"
          ]
        }
      ],
      "source": [
        "# Accuracy on 1st iter ~85%; Accuracy on 2nd iter +0.5\n",
        "tokenizer.fit_on_texts(X_test.astype(\"str\"))\n",
        "test_sequences = tokenizer.texts_to_sequences(X_test.astype(\"str\"))\n",
        "\n",
        "test_padded = pad_sequences(\n",
        "    test_sequences, maxlen=max_length, padding=\"post\", truncating=\"post\"\n",
        ")\n",
        "\n",
        "accr = model_embed.evaluate(test_padded, y_test)\n",
        "print('Test set\\n  Loss: {:0.3f}\\n  Accuracy: {:0.3f}'.format(accr[0],accr[1]))"
      ]
    }
  ],
  "metadata": {
    "colab": {
      "collapsed_sections": [],
      "name": "job_skill_extraction_model.ipynb",
      "provenance": []
    },
    "kernelspec": {
      "display_name": "py-gt",
      "language": "python",
      "name": "py-gt"
    },
    "language_info": {
      "codemirror_mode": {
        "name": "ipython",
        "version": 3
      },
      "file_extension": ".py",
      "mimetype": "text/x-python",
      "name": "python",
      "nbconvert_exporter": "python",
      "pygments_lexer": "ipython3",
      "version": "3.9.10"
    },
    "widgets": {
      "application/vnd.jupyter.widget-state+json": {
        "07b458cf97424d7692e03c7fcdf5b650": {
          "model_module": "@jupyter-widgets/controls",
          "model_module_version": "1.5.0",
          "model_name": "DescriptionStyleModel",
          "state": {
            "_model_module": "@jupyter-widgets/controls",
            "_model_module_version": "1.5.0",
            "_model_name": "DescriptionStyleModel",
            "_view_count": null,
            "_view_module": "@jupyter-widgets/base",
            "_view_module_version": "1.2.0",
            "_view_name": "StyleView",
            "description_width": ""
          }
        },
        "13e829ea5a7247768d62f0f460fc358f": {
          "model_module": "@jupyter-widgets/controls",
          "model_module_version": "1.5.0",
          "model_name": "HBoxModel",
          "state": {
            "_dom_classes": [],
            "_model_module": "@jupyter-widgets/controls",
            "_model_module_version": "1.5.0",
            "_model_name": "HBoxModel",
            "_view_count": null,
            "_view_module": "@jupyter-widgets/controls",
            "_view_module_version": "1.5.0",
            "_view_name": "HBoxView",
            "box_style": "",
            "children": [
              "IPY_MODEL_e774e9b5450d4287a00a63c3481cbcfb",
              "IPY_MODEL_1ca838b5dce04dad8b0d0861a7e27b78",
              "IPY_MODEL_9cd41fa993e042f0b1b6967f9498c3a8"
            ],
            "layout": "IPY_MODEL_f9951bdcbe004d2fa05a708cfea3cd46"
          }
        },
        "1ca838b5dce04dad8b0d0861a7e27b78": {
          "model_module": "@jupyter-widgets/controls",
          "model_module_version": "1.5.0",
          "model_name": "FloatProgressModel",
          "state": {
            "_dom_classes": [],
            "_model_module": "@jupyter-widgets/controls",
            "_model_module_version": "1.5.0",
            "_model_name": "FloatProgressModel",
            "_view_count": null,
            "_view_module": "@jupyter-widgets/controls",
            "_view_module_version": "1.5.0",
            "_view_name": "ProgressView",
            "bar_style": "success",
            "description": "",
            "description_tooltip": null,
            "layout": "IPY_MODEL_629f7baf9eeb4001b68de64c72ee711a",
            "max": 6354,
            "min": 0,
            "orientation": "horizontal",
            "style": "IPY_MODEL_adce26660c0043bcb404186e823ce43e",
            "value": 6354
          }
        },
        "34f98fdf05f244ccb656a576fc8b7a04": {
          "model_module": "@jupyter-widgets/controls",
          "model_module_version": "1.5.0",
          "model_name": "HTMLModel",
          "state": {
            "_dom_classes": [],
            "_model_module": "@jupyter-widgets/controls",
            "_model_module_version": "1.5.0",
            "_model_name": "HTMLModel",
            "_view_count": null,
            "_view_module": "@jupyter-widgets/controls",
            "_view_module_version": "1.5.0",
            "_view_name": "HTMLView",
            "description": "",
            "description_tooltip": null,
            "layout": "IPY_MODEL_9c8e6b36817a4cec9b1696e98c25a2be",
            "placeholder": "​",
            "style": "IPY_MODEL_fcd9283302c84b5cb3d89ba2b0dad0d1",
            "value": "Converting examples to features: 100%"
          }
        },
        "444c0fed2de042c2a925da78343ec50c": {
          "model_module": "@jupyter-widgets/base",
          "model_module_version": "1.2.0",
          "model_name": "LayoutModel",
          "state": {
            "_model_module": "@jupyter-widgets/base",
            "_model_module_version": "1.2.0",
            "_model_name": "LayoutModel",
            "_view_count": null,
            "_view_module": "@jupyter-widgets/base",
            "_view_module_version": "1.2.0",
            "_view_name": "LayoutView",
            "align_content": null,
            "align_items": null,
            "align_self": null,
            "border": null,
            "bottom": null,
            "display": null,
            "flex": null,
            "flex_flow": null,
            "grid_area": null,
            "grid_auto_columns": null,
            "grid_auto_flow": null,
            "grid_auto_rows": null,
            "grid_column": null,
            "grid_gap": null,
            "grid_row": null,
            "grid_template_areas": null,
            "grid_template_columns": null,
            "grid_template_rows": null,
            "height": null,
            "justify_content": null,
            "justify_items": null,
            "left": null,
            "margin": null,
            "max_height": null,
            "max_width": null,
            "min_height": null,
            "min_width": null,
            "object_fit": null,
            "object_position": null,
            "order": null,
            "overflow": null,
            "overflow_x": null,
            "overflow_y": null,
            "padding": null,
            "right": null,
            "top": null,
            "visibility": null,
            "width": null
          }
        },
        "59d260262e124417a91b67e80a0dfe9e": {
          "model_module": "@jupyter-widgets/controls",
          "model_module_version": "1.5.0",
          "model_name": "ProgressStyleModel",
          "state": {
            "_model_module": "@jupyter-widgets/controls",
            "_model_module_version": "1.5.0",
            "_model_name": "ProgressStyleModel",
            "_view_count": null,
            "_view_module": "@jupyter-widgets/base",
            "_view_module_version": "1.2.0",
            "_view_name": "StyleView",
            "bar_color": null,
            "description_width": ""
          }
        },
        "629f7baf9eeb4001b68de64c72ee711a": {
          "model_module": "@jupyter-widgets/base",
          "model_module_version": "1.2.0",
          "model_name": "LayoutModel",
          "state": {
            "_model_module": "@jupyter-widgets/base",
            "_model_module_version": "1.2.0",
            "_model_name": "LayoutModel",
            "_view_count": null,
            "_view_module": "@jupyter-widgets/base",
            "_view_module_version": "1.2.0",
            "_view_name": "LayoutView",
            "align_content": null,
            "align_items": null,
            "align_self": null,
            "border": null,
            "bottom": null,
            "display": null,
            "flex": null,
            "flex_flow": null,
            "grid_area": null,
            "grid_auto_columns": null,
            "grid_auto_flow": null,
            "grid_auto_rows": null,
            "grid_column": null,
            "grid_gap": null,
            "grid_row": null,
            "grid_template_areas": null,
            "grid_template_columns": null,
            "grid_template_rows": null,
            "height": null,
            "justify_content": null,
            "justify_items": null,
            "left": null,
            "margin": null,
            "max_height": null,
            "max_width": null,
            "min_height": null,
            "min_width": null,
            "object_fit": null,
            "object_position": null,
            "order": null,
            "overflow": null,
            "overflow_x": null,
            "overflow_y": null,
            "padding": null,
            "right": null,
            "top": null,
            "visibility": null,
            "width": null
          }
        },
        "64462861bde74e44b4e8b02d37eb294e": {
          "model_module": "@jupyter-widgets/controls",
          "model_module_version": "1.5.0",
          "model_name": "HBoxModel",
          "state": {
            "_dom_classes": [],
            "_model_module": "@jupyter-widgets/controls",
            "_model_module_version": "1.5.0",
            "_model_name": "HBoxModel",
            "_view_count": null,
            "_view_module": "@jupyter-widgets/controls",
            "_view_module_version": "1.5.0",
            "_view_name": "HBoxView",
            "box_style": "",
            "children": [
              "IPY_MODEL_34f98fdf05f244ccb656a576fc8b7a04",
              "IPY_MODEL_9a50d2caae1140f1a9d84f2bdf645cf7",
              "IPY_MODEL_6db08622cd284ab6ab08b1d40a476573"
            ],
            "layout": "IPY_MODEL_444c0fed2de042c2a925da78343ec50c"
          }
        },
        "6db08622cd284ab6ab08b1d40a476573": {
          "model_module": "@jupyter-widgets/controls",
          "model_module_version": "1.5.0",
          "model_name": "HTMLModel",
          "state": {
            "_dom_classes": [],
            "_model_module": "@jupyter-widgets/controls",
            "_model_module_version": "1.5.0",
            "_model_name": "HTMLModel",
            "_view_count": null,
            "_view_module": "@jupyter-widgets/controls",
            "_view_module_version": "1.5.0",
            "_view_name": "HTMLView",
            "description": "",
            "description_tooltip": null,
            "layout": "IPY_MODEL_f805b121042a4e38996f7d82f0ef083a",
            "placeholder": "​",
            "style": "IPY_MODEL_6f3fc16c429245f2b790851b152cc8ba",
            "value": " 1589/1589 [00:00&lt;00:00, 4699.91it/s]"
          }
        },
        "6f3fc16c429245f2b790851b152cc8ba": {
          "model_module": "@jupyter-widgets/controls",
          "model_module_version": "1.5.0",
          "model_name": "DescriptionStyleModel",
          "state": {
            "_model_module": "@jupyter-widgets/controls",
            "_model_module_version": "1.5.0",
            "_model_name": "DescriptionStyleModel",
            "_view_count": null,
            "_view_module": "@jupyter-widgets/base",
            "_view_module_version": "1.2.0",
            "_view_name": "StyleView",
            "description_width": ""
          }
        },
        "7ca89e6912dd4860876192b0b3c8da02": {
          "model_module": "@jupyter-widgets/base",
          "model_module_version": "1.2.0",
          "model_name": "LayoutModel",
          "state": {
            "_model_module": "@jupyter-widgets/base",
            "_model_module_version": "1.2.0",
            "_model_name": "LayoutModel",
            "_view_count": null,
            "_view_module": "@jupyter-widgets/base",
            "_view_module_version": "1.2.0",
            "_view_name": "LayoutView",
            "align_content": null,
            "align_items": null,
            "align_self": null,
            "border": null,
            "bottom": null,
            "display": null,
            "flex": null,
            "flex_flow": null,
            "grid_area": null,
            "grid_auto_columns": null,
            "grid_auto_flow": null,
            "grid_auto_rows": null,
            "grid_column": null,
            "grid_gap": null,
            "grid_row": null,
            "grid_template_areas": null,
            "grid_template_columns": null,
            "grid_template_rows": null,
            "height": null,
            "justify_content": null,
            "justify_items": null,
            "left": null,
            "margin": null,
            "max_height": null,
            "max_width": null,
            "min_height": null,
            "min_width": null,
            "object_fit": null,
            "object_position": null,
            "order": null,
            "overflow": null,
            "overflow_x": null,
            "overflow_y": null,
            "padding": null,
            "right": null,
            "top": null,
            "visibility": null,
            "width": null
          }
        },
        "9a50d2caae1140f1a9d84f2bdf645cf7": {
          "model_module": "@jupyter-widgets/controls",
          "model_module_version": "1.5.0",
          "model_name": "FloatProgressModel",
          "state": {
            "_dom_classes": [],
            "_model_module": "@jupyter-widgets/controls",
            "_model_module_version": "1.5.0",
            "_model_name": "FloatProgressModel",
            "_view_count": null,
            "_view_module": "@jupyter-widgets/controls",
            "_view_module_version": "1.5.0",
            "_view_name": "ProgressView",
            "bar_style": "success",
            "description": "",
            "description_tooltip": null,
            "layout": "IPY_MODEL_7ca89e6912dd4860876192b0b3c8da02",
            "max": 1589,
            "min": 0,
            "orientation": "horizontal",
            "style": "IPY_MODEL_59d260262e124417a91b67e80a0dfe9e",
            "value": 1589
          }
        },
        "9c8e6b36817a4cec9b1696e98c25a2be": {
          "model_module": "@jupyter-widgets/base",
          "model_module_version": "1.2.0",
          "model_name": "LayoutModel",
          "state": {
            "_model_module": "@jupyter-widgets/base",
            "_model_module_version": "1.2.0",
            "_model_name": "LayoutModel",
            "_view_count": null,
            "_view_module": "@jupyter-widgets/base",
            "_view_module_version": "1.2.0",
            "_view_name": "LayoutView",
            "align_content": null,
            "align_items": null,
            "align_self": null,
            "border": null,
            "bottom": null,
            "display": null,
            "flex": null,
            "flex_flow": null,
            "grid_area": null,
            "grid_auto_columns": null,
            "grid_auto_flow": null,
            "grid_auto_rows": null,
            "grid_column": null,
            "grid_gap": null,
            "grid_row": null,
            "grid_template_areas": null,
            "grid_template_columns": null,
            "grid_template_rows": null,
            "height": null,
            "justify_content": null,
            "justify_items": null,
            "left": null,
            "margin": null,
            "max_height": null,
            "max_width": null,
            "min_height": null,
            "min_width": null,
            "object_fit": null,
            "object_position": null,
            "order": null,
            "overflow": null,
            "overflow_x": null,
            "overflow_y": null,
            "padding": null,
            "right": null,
            "top": null,
            "visibility": null,
            "width": null
          }
        },
        "9cd41fa993e042f0b1b6967f9498c3a8": {
          "model_module": "@jupyter-widgets/controls",
          "model_module_version": "1.5.0",
          "model_name": "HTMLModel",
          "state": {
            "_dom_classes": [],
            "_model_module": "@jupyter-widgets/controls",
            "_model_module_version": "1.5.0",
            "_model_name": "HTMLModel",
            "_view_count": null,
            "_view_module": "@jupyter-widgets/controls",
            "_view_module_version": "1.5.0",
            "_view_name": "HTMLView",
            "description": "",
            "description_tooltip": null,
            "layout": "IPY_MODEL_f37dcc2e3d6d4455a321b780bde43c76",
            "placeholder": "​",
            "style": "IPY_MODEL_db538957fd4f46b0a3bff4a0971de467",
            "value": " 6354/6354 [00:01&lt;00:00, 5022.88it/s]"
          }
        },
        "adce26660c0043bcb404186e823ce43e": {
          "model_module": "@jupyter-widgets/controls",
          "model_module_version": "1.5.0",
          "model_name": "ProgressStyleModel",
          "state": {
            "_model_module": "@jupyter-widgets/controls",
            "_model_module_version": "1.5.0",
            "_model_name": "ProgressStyleModel",
            "_view_count": null,
            "_view_module": "@jupyter-widgets/base",
            "_view_module_version": "1.2.0",
            "_view_name": "StyleView",
            "bar_color": null,
            "description_width": ""
          }
        },
        "ccbbb25168d74225874660479adcb230": {
          "model_module": "@jupyter-widgets/base",
          "model_module_version": "1.2.0",
          "model_name": "LayoutModel",
          "state": {
            "_model_module": "@jupyter-widgets/base",
            "_model_module_version": "1.2.0",
            "_model_name": "LayoutModel",
            "_view_count": null,
            "_view_module": "@jupyter-widgets/base",
            "_view_module_version": "1.2.0",
            "_view_name": "LayoutView",
            "align_content": null,
            "align_items": null,
            "align_self": null,
            "border": null,
            "bottom": null,
            "display": null,
            "flex": null,
            "flex_flow": null,
            "grid_area": null,
            "grid_auto_columns": null,
            "grid_auto_flow": null,
            "grid_auto_rows": null,
            "grid_column": null,
            "grid_gap": null,
            "grid_row": null,
            "grid_template_areas": null,
            "grid_template_columns": null,
            "grid_template_rows": null,
            "height": null,
            "justify_content": null,
            "justify_items": null,
            "left": null,
            "margin": null,
            "max_height": null,
            "max_width": null,
            "min_height": null,
            "min_width": null,
            "object_fit": null,
            "object_position": null,
            "order": null,
            "overflow": null,
            "overflow_x": null,
            "overflow_y": null,
            "padding": null,
            "right": null,
            "top": null,
            "visibility": null,
            "width": null
          }
        },
        "db538957fd4f46b0a3bff4a0971de467": {
          "model_module": "@jupyter-widgets/controls",
          "model_module_version": "1.5.0",
          "model_name": "DescriptionStyleModel",
          "state": {
            "_model_module": "@jupyter-widgets/controls",
            "_model_module_version": "1.5.0",
            "_model_name": "DescriptionStyleModel",
            "_view_count": null,
            "_view_module": "@jupyter-widgets/base",
            "_view_module_version": "1.2.0",
            "_view_name": "StyleView",
            "description_width": ""
          }
        },
        "e774e9b5450d4287a00a63c3481cbcfb": {
          "model_module": "@jupyter-widgets/controls",
          "model_module_version": "1.5.0",
          "model_name": "HTMLModel",
          "state": {
            "_dom_classes": [],
            "_model_module": "@jupyter-widgets/controls",
            "_model_module_version": "1.5.0",
            "_model_name": "HTMLModel",
            "_view_count": null,
            "_view_module": "@jupyter-widgets/controls",
            "_view_module_version": "1.5.0",
            "_view_name": "HTMLView",
            "description": "",
            "description_tooltip": null,
            "layout": "IPY_MODEL_ccbbb25168d74225874660479adcb230",
            "placeholder": "​",
            "style": "IPY_MODEL_07b458cf97424d7692e03c7fcdf5b650",
            "value": "Converting examples to features: 100%"
          }
        },
        "f37dcc2e3d6d4455a321b780bde43c76": {
          "model_module": "@jupyter-widgets/base",
          "model_module_version": "1.2.0",
          "model_name": "LayoutModel",
          "state": {
            "_model_module": "@jupyter-widgets/base",
            "_model_module_version": "1.2.0",
            "_model_name": "LayoutModel",
            "_view_count": null,
            "_view_module": "@jupyter-widgets/base",
            "_view_module_version": "1.2.0",
            "_view_name": "LayoutView",
            "align_content": null,
            "align_items": null,
            "align_self": null,
            "border": null,
            "bottom": null,
            "display": null,
            "flex": null,
            "flex_flow": null,
            "grid_area": null,
            "grid_auto_columns": null,
            "grid_auto_flow": null,
            "grid_auto_rows": null,
            "grid_column": null,
            "grid_gap": null,
            "grid_row": null,
            "grid_template_areas": null,
            "grid_template_columns": null,
            "grid_template_rows": null,
            "height": null,
            "justify_content": null,
            "justify_items": null,
            "left": null,
            "margin": null,
            "max_height": null,
            "max_width": null,
            "min_height": null,
            "min_width": null,
            "object_fit": null,
            "object_position": null,
            "order": null,
            "overflow": null,
            "overflow_x": null,
            "overflow_y": null,
            "padding": null,
            "right": null,
            "top": null,
            "visibility": null,
            "width": null
          }
        },
        "f805b121042a4e38996f7d82f0ef083a": {
          "model_module": "@jupyter-widgets/base",
          "model_module_version": "1.2.0",
          "model_name": "LayoutModel",
          "state": {
            "_model_module": "@jupyter-widgets/base",
            "_model_module_version": "1.2.0",
            "_model_name": "LayoutModel",
            "_view_count": null,
            "_view_module": "@jupyter-widgets/base",
            "_view_module_version": "1.2.0",
            "_view_name": "LayoutView",
            "align_content": null,
            "align_items": null,
            "align_self": null,
            "border": null,
            "bottom": null,
            "display": null,
            "flex": null,
            "flex_flow": null,
            "grid_area": null,
            "grid_auto_columns": null,
            "grid_auto_flow": null,
            "grid_auto_rows": null,
            "grid_column": null,
            "grid_gap": null,
            "grid_row": null,
            "grid_template_areas": null,
            "grid_template_columns": null,
            "grid_template_rows": null,
            "height": null,
            "justify_content": null,
            "justify_items": null,
            "left": null,
            "margin": null,
            "max_height": null,
            "max_width": null,
            "min_height": null,
            "min_width": null,
            "object_fit": null,
            "object_position": null,
            "order": null,
            "overflow": null,
            "overflow_x": null,
            "overflow_y": null,
            "padding": null,
            "right": null,
            "top": null,
            "visibility": null,
            "width": null
          }
        },
        "f9951bdcbe004d2fa05a708cfea3cd46": {
          "model_module": "@jupyter-widgets/base",
          "model_module_version": "1.2.0",
          "model_name": "LayoutModel",
          "state": {
            "_model_module": "@jupyter-widgets/base",
            "_model_module_version": "1.2.0",
            "_model_name": "LayoutModel",
            "_view_count": null,
            "_view_module": "@jupyter-widgets/base",
            "_view_module_version": "1.2.0",
            "_view_name": "LayoutView",
            "align_content": null,
            "align_items": null,
            "align_self": null,
            "border": null,
            "bottom": null,
            "display": null,
            "flex": null,
            "flex_flow": null,
            "grid_area": null,
            "grid_auto_columns": null,
            "grid_auto_flow": null,
            "grid_auto_rows": null,
            "grid_column": null,
            "grid_gap": null,
            "grid_row": null,
            "grid_template_areas": null,
            "grid_template_columns": null,
            "grid_template_rows": null,
            "height": null,
            "justify_content": null,
            "justify_items": null,
            "left": null,
            "margin": null,
            "max_height": null,
            "max_width": null,
            "min_height": null,
            "min_width": null,
            "object_fit": null,
            "object_position": null,
            "order": null,
            "overflow": null,
            "overflow_x": null,
            "overflow_y": null,
            "padding": null,
            "right": null,
            "top": null,
            "visibility": null,
            "width": null
          }
        },
        "fcd9283302c84b5cb3d89ba2b0dad0d1": {
          "model_module": "@jupyter-widgets/controls",
          "model_module_version": "1.5.0",
          "model_name": "DescriptionStyleModel",
          "state": {
            "_model_module": "@jupyter-widgets/controls",
            "_model_module_version": "1.5.0",
            "_model_name": "DescriptionStyleModel",
            "_view_count": null,
            "_view_module": "@jupyter-widgets/base",
            "_view_module_version": "1.2.0",
            "_view_name": "StyleView",
            "description_width": ""
          }
        }
      }
    }
  },
  "nbformat": 4,
  "nbformat_minor": 0
}
