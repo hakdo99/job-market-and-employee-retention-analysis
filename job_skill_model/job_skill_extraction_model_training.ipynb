{
  "cells": [
    {
      "cell_type": "markdown",
      "metadata": {
        "id": "Zxl-BWAYMQbT"
      },
      "source": [
        "## **Training job skill extraction model**\n",
        "\n",
        "Installing the required libraries"
      ]
    },
    {
      "cell_type": "code",
      "execution_count": 1,
      "metadata": {
        "colab": {
          "base_uri": "https://localhost:8080/"
        },
        "id": "ZJ4_LOo5Guxj",
        "outputId": "d300f241-55b1-4808-dcaf-5bbe41b6efab"
      },
      "outputs": [
        {
          "name": "stdout",
          "output_type": "stream",
          "text": [
            "Defaulting to user installation because normal site-packages is not writeable\n",
            "Requirement already satisfied: contractions in /home/ytc17/.local/lib/python3.9/site-packages (0.1.68)\n",
            "Requirement already satisfied: textsearch>=0.0.21 in /home/ytc17/.local/lib/python3.9/site-packages (from contractions) (0.0.21)\n",
            "Requirement already satisfied: anyascii in /home/ytc17/.local/lib/python3.9/site-packages (from textsearch>=0.0.21->contractions) (0.3.0)\n",
            "Requirement already satisfied: pyahocorasick in /home/ytc17/.local/lib/python3.9/site-packages (from textsearch>=0.0.21->contractions) (1.4.4)\n",
            "Note: you may need to restart the kernel to use updated packages.\n",
            "Defaulting to user installation because normal site-packages is not writeable\n",
            "Requirement already satisfied: bert-for-tf2 in /home/ytc17/.local/lib/python3.9/site-packages (0.14.9)\n",
            "Requirement already satisfied: py-params>=0.9.6 in /home/ytc17/.local/lib/python3.9/site-packages (from bert-for-tf2) (0.10.2)\n",
            "Requirement already satisfied: params-flow>=0.8.0 in /home/ytc17/.local/lib/python3.9/site-packages (from bert-for-tf2) (0.8.2)\n",
            "Requirement already satisfied: numpy in /usr/shared/CMPT/big-data/condaenv/gt/lib/python3.9/site-packages (from params-flow>=0.8.0->bert-for-tf2) (1.22.3)\n",
            "Requirement already satisfied: tqdm in /usr/shared/CMPT/big-data/condaenv/gt/lib/python3.9/site-packages (from params-flow>=0.8.0->bert-for-tf2) (4.63.1)\n",
            "Note: you may need to restart the kernel to use updated packages.\n",
            "Defaulting to user installation because normal site-packages is not writeable\n",
            "Requirement already satisfied: tqdm in /usr/shared/CMPT/big-data/condaenv/gt/lib/python3.9/site-packages (4.63.1)\n",
            "Note: you may need to restart the kernel to use updated packages.\n",
            "Defaulting to user installation because normal site-packages is not writeable\n",
            "Requirement already satisfied: tensorflow_hub in /home/ytc17/.local/lib/python3.9/site-packages (0.12.0)\n",
            "Requirement already satisfied: numpy>=1.12.0 in /usr/shared/CMPT/big-data/condaenv/gt/lib/python3.9/site-packages (from tensorflow_hub) (1.22.3)\n",
            "Requirement already satisfied: protobuf>=3.8.0 in /usr/shared/CMPT/big-data/condaenv/gt/lib/python3.9/site-packages (from tensorflow_hub) (3.19.4)\n",
            "Note: you may need to restart the kernel to use updated packages.\n"
          ]
        }
      ],
      "source": [
        "%pip install contractions\n",
        "%pip install bert-for-tf2\n",
        "%pip install tqdm\n",
        "%pip install tensorflow_hub"
      ]
    },
    {
      "cell_type": "code",
      "execution_count": 2,
      "metadata": {
        "id": "hvbDOyKenQ7f"
      },
      "outputs": [],
      "source": [
        "import pandas as pd \n",
        "import numpy as np\n",
        "import matplotlib.pyplot as plt\n",
        "from sklearn.model_selection import train_test_split\n",
        "from tqdm import tqdm_notebook \n",
        "\n",
        "# Upgrade from TF1 to TF2 for bert implementation\n",
        "# tensorflow_version 2.8.0\n",
        "import tensorflow as tf\n",
        "import tensorflow_hub as hub\n",
        "import bert\n",
        "from tensorflow import keras\n",
        "from tensorflow.keras.layers import Input\n",
        "\n",
        "# Params for bert model and tokenization\n",
        "bert_path = \"https://tfhub.dev/google/bert_uncased_L-12_H-768_A-12/1\""
      ]
    },
    {
      "cell_type": "code",
      "execution_count": 3,
      "metadata": {
        "colab": {
          "base_uri": "https://localhost:8080/"
        },
        "id": "1OIP8fkdG5_-",
        "outputId": "480a2883-7e11-4ce1-a02d-580649ae885b"
      },
      "outputs": [
        {
          "name": "stdout",
          "output_type": "stream",
          "text": [
            "2.7.0\n",
            "0.12.0\n"
          ]
        }
      ],
      "source": [
        "print(tf.__version__)\n",
        "print(hub.__version__)"
      ]
    },
    {
      "cell_type": "code",
      "execution_count": 4,
      "metadata": {
        "colab": {
          "base_uri": "https://localhost:8080/"
        },
        "id": "TvNceYUWHNDM",
        "outputId": "64619316-a827-4c8d-8b6f-31822816a4f3"
      },
      "outputs": [
        {
          "name": "stdout",
          "output_type": "stream",
          "text": [
            "[PhysicalDevice(name='/physical_device:GPU:0', device_type='GPU')]\n"
          ]
        },
        {
          "name": "stderr",
          "output_type": "stream",
          "text": [
            "2022-03-29 11:03:59.926274: I tensorflow/stream_executor/cuda/cuda_gpu_executor.cc:939] successful NUMA node read from SysFS had negative value (-1), but there must be at least one NUMA node, so returning NUMA node zero\n",
            "2022-03-29 11:03:59.943630: I tensorflow/stream_executor/cuda/cuda_gpu_executor.cc:939] successful NUMA node read from SysFS had negative value (-1), but there must be at least one NUMA node, so returning NUMA node zero\n",
            "2022-03-29 11:03:59.943828: I tensorflow/stream_executor/cuda/cuda_gpu_executor.cc:939] successful NUMA node read from SysFS had negative value (-1), but there must be at least one NUMA node, so returning NUMA node zero\n"
          ]
        },
        {
          "name": "stdout",
          "output_type": "stream",
          "text": [
            "/device:GPU:0\n"
          ]
        },
        {
          "name": "stderr",
          "output_type": "stream",
          "text": [
            "2022-03-29 11:03:59.945527: I tensorflow/core/platform/cpu_feature_guard.cc:151] This TensorFlow binary is optimized with oneAPI Deep Neural Network Library (oneDNN) to use the following CPU instructions in performance-critical operations:  SSE4.1 SSE4.2 AVX AVX2 FMA\n",
            "To enable them in other operations, rebuild TensorFlow with the appropriate compiler flags.\n",
            "2022-03-29 11:03:59.945859: I tensorflow/stream_executor/cuda/cuda_gpu_executor.cc:939] successful NUMA node read from SysFS had negative value (-1), but there must be at least one NUMA node, so returning NUMA node zero\n",
            "2022-03-29 11:03:59.946038: I tensorflow/stream_executor/cuda/cuda_gpu_executor.cc:939] successful NUMA node read from SysFS had negative value (-1), but there must be at least one NUMA node, so returning NUMA node zero\n",
            "2022-03-29 11:03:59.946185: I tensorflow/stream_executor/cuda/cuda_gpu_executor.cc:939] successful NUMA node read from SysFS had negative value (-1), but there must be at least one NUMA node, so returning NUMA node zero\n",
            "2022-03-29 11:04:00.310687: I tensorflow/stream_executor/cuda/cuda_gpu_executor.cc:939] successful NUMA node read from SysFS had negative value (-1), but there must be at least one NUMA node, so returning NUMA node zero\n",
            "2022-03-29 11:04:00.310840: I tensorflow/stream_executor/cuda/cuda_gpu_executor.cc:939] successful NUMA node read from SysFS had negative value (-1), but there must be at least one NUMA node, so returning NUMA node zero\n",
            "2022-03-29 11:04:00.310992: I tensorflow/stream_executor/cuda/cuda_gpu_executor.cc:939] successful NUMA node read from SysFS had negative value (-1), but there must be at least one NUMA node, so returning NUMA node zero\n",
            "2022-03-29 11:04:00.311084: I tensorflow/core/common_runtime/gpu/gpu_device.cc:1525] Created device /device:GPU:0 with 6628 MB memory:  -> device: 0, name: NVIDIA GeForce RTX 2080, pci bus id: 0000:01:00.0, compute capability: 7.5\n"
          ]
        }
      ],
      "source": [
        "print(tf.config.list_physical_devices('GPU'))\n",
        "print(tf.test.gpu_device_name())"
      ]
    },
    {
      "cell_type": "code",
      "execution_count": 5,
      "metadata": {
        "colab": {
          "base_uri": "https://localhost:8080/"
        },
        "id": "kEco9ESCnlnf",
        "outputId": "3ed23a63-4313-47a6-fcce-86f5cff636b2"
      },
      "outputs": [],
      "source": [
        "colab_used = False\n",
        "if colab_used:\n",
        "    from google.colab import drive\n",
        "    drive.mount('/content/drive')"
      ]
    },
    {
      "cell_type": "markdown",
      "metadata": {
        "id": "CsVqAvczMhXx"
      },
      "source": [
        "###Data Import and Pre-processing"
      ]
    },
    {
      "cell_type": "code",
      "execution_count": 6,
      "metadata": {
        "id": "pVT1TRIPHz1n"
      },
      "outputs": [],
      "source": [
        "input_path_colab = \"/content/drive/MyDrive/SFU/CMPT733/project/processing/\"\n",
        "input_path_lab = \"processing/\"\n",
        "\n",
        "input_path = input_path_colab if colab_used else input_path_lab\n",
        "\n",
        "input_file = \"new_consolidated_records1_2022-03-26 173511_labelled.csv\""
      ]
    },
    {
      "cell_type": "code",
      "execution_count": 7,
      "metadata": {
        "colab": {
          "base_uri": "https://localhost:8080/"
        },
        "id": "3M5GWEY8mvYy",
        "outputId": "d45de813-5366-4345-a305-7b3944540d35"
      },
      "outputs": [
        {
          "name": "stderr",
          "output_type": "stream",
          "text": [
            "/tmp/ipykernel_45401/3750856104.py:1: FutureWarning: The error_bad_lines argument has been deprecated and will be removed in a future version. Use on_bad_lines in the future.\n",
            "\n",
            "\n",
            "  df1 = pd.read_csv(input_path+input_file, error_bad_lines = True)\n"
          ]
        }
      ],
      "source": [
        "df1 = pd.read_csv(input_path+input_file, error_bad_lines = True)\n",
        "#df2 = pd.read_csv(input_path+input_file_invalid, error_bad_lines = True)\n",
        "\n",
        "#train_data = pd.concat([df1, df2], ignore_index=True)\n",
        "train_data = df1\n",
        "\n",
        "train_data.sample(100, random_state = 5)\n",
        "train_data['text'] = train_data.text.str.strip()\n",
        "train_data = train_data[train_data.text.str.strip()!='']"
      ]
    },
    {
      "cell_type": "code",
      "execution_count": 8,
      "metadata": {
        "colab": {
          "base_uri": "https://localhost:8080/",
          "height": 424
        },
        "id": "gfHutkpGBWQt",
        "outputId": "7fbad5e3-7ba8-48a0-874e-c0b9e8ecb9e2"
      },
      "outputs": [
        {
          "data": {
            "text/html": [
              "<div>\n",
              "<style scoped>\n",
              "    .dataframe tbody tr th:only-of-type {\n",
              "        vertical-align: middle;\n",
              "    }\n",
              "\n",
              "    .dataframe tbody tr th {\n",
              "        vertical-align: top;\n",
              "    }\n",
              "\n",
              "    .dataframe thead th {\n",
              "        text-align: right;\n",
              "    }\n",
              "</style>\n",
              "<table border=\"1\" class=\"dataframe\">\n",
              "  <thead>\n",
              "    <tr style=\"text-align: right;\">\n",
              "      <th></th>\n",
              "      <th>Unnamed: 0</th>\n",
              "      <th>text</th>\n",
              "      <th>skill</th>\n",
              "    </tr>\n",
              "  </thead>\n",
              "  <tbody>\n",
              "    <tr>\n",
              "      <th>2951</th>\n",
              "      <td>2903</td>\n",
              "      <td>financial advisor roles</td>\n",
              "      <td>1</td>\n",
              "    </tr>\n",
              "    <tr>\n",
              "      <th>5901</th>\n",
              "      <td>5807</td>\n",
              "      <td>progressive hr</td>\n",
              "      <td>1</td>\n",
              "    </tr>\n",
              "    <tr>\n",
              "      <th>6377</th>\n",
              "      <td>6280</td>\n",
              "      <td>retention policies</td>\n",
              "      <td>1</td>\n",
              "    </tr>\n",
              "    <tr>\n",
              "      <th>3833</th>\n",
              "      <td>3776</td>\n",
              "      <td>innate</td>\n",
              "      <td>0</td>\n",
              "    </tr>\n",
              "    <tr>\n",
              "      <th>1147</th>\n",
              "      <td>1125</td>\n",
              "      <td>change</td>\n",
              "      <td>0</td>\n",
              "    </tr>\n",
              "    <tr>\n",
              "      <th>...</th>\n",
              "      <td>...</td>\n",
              "      <td>...</td>\n",
              "      <td>...</td>\n",
              "    </tr>\n",
              "    <tr>\n",
              "      <th>4424</th>\n",
              "      <td>4363</td>\n",
              "      <td>market insight</td>\n",
              "      <td>1</td>\n",
              "    </tr>\n",
              "    <tr>\n",
              "      <th>4813</th>\n",
              "      <td>4747</td>\n",
              "      <td>multiple roles</td>\n",
              "      <td>0</td>\n",
              "    </tr>\n",
              "    <tr>\n",
              "      <th>4683</th>\n",
              "      <td>4620</td>\n",
              "      <td>modeling ability</td>\n",
              "      <td>1</td>\n",
              "    </tr>\n",
              "    <tr>\n",
              "      <th>5894</th>\n",
              "      <td>5800</td>\n",
              "      <td>programs</td>\n",
              "      <td>1</td>\n",
              "    </tr>\n",
              "    <tr>\n",
              "      <th>5278</th>\n",
              "      <td>5198</td>\n",
              "      <td>our home office recruitment</td>\n",
              "      <td>1</td>\n",
              "    </tr>\n",
              "  </tbody>\n",
              "</table>\n",
              "<p>100 rows × 3 columns</p>\n",
              "</div>"
            ],
            "text/plain": [
              "      Unnamed: 0                         text  skill\n",
              "2951        2903      financial advisor roles      1\n",
              "5901        5807               progressive hr      1\n",
              "6377        6280           retention policies      1\n",
              "3833        3776                       innate      0\n",
              "1147        1125                       change      0\n",
              "...          ...                          ...    ...\n",
              "4424        4363               market insight      1\n",
              "4813        4747               multiple roles      0\n",
              "4683        4620             modeling ability      1\n",
              "5894        5800                     programs      1\n",
              "5278        5198  our home office recruitment      1\n",
              "\n",
              "[100 rows x 3 columns]"
            ]
          },
          "execution_count": 8,
          "metadata": {},
          "output_type": "execute_result"
        }
      ],
      "source": [
        "train_data.sample(100, random_state = 5)"
      ]
    },
    {
      "cell_type": "code",
      "execution_count": 9,
      "metadata": {
        "colab": {
          "base_uri": "https://localhost:8080/"
        },
        "id": "NqNAds8-5oFE",
        "outputId": "668fe5a5-d5bf-4742-857c-2e40d335816f"
      },
      "outputs": [
        {
          "data": {
            "text/plain": [
              "1    5800\n",
              "0    2143\n",
              "Name: skill, dtype: int64"
            ]
          },
          "execution_count": 9,
          "metadata": {},
          "output_type": "execute_result"
        }
      ],
      "source": [
        "train_data['skill'].value_counts()"
      ]
    },
    {
      "cell_type": "code",
      "execution_count": 10,
      "metadata": {
        "colab": {
          "base_uri": "https://localhost:8080/"
        },
        "id": "KPJNc9MHJ_fC",
        "outputId": "541aa5c2-d024-4c3f-f5b8-3db87b893289"
      },
      "outputs": [
        {
          "name": "stdout",
          "output_type": "stream",
          "text": [
            "Number of skill: 5800\n",
            "Number of Not Skill: 2143\n",
            "Ratio of classes: Skill= 0.7302026941961476  Not Skill= 0.2697973058038524\n"
          ]
        }
      ],
      "source": [
        "# ratio of classes; checking for balance in training data \n",
        "print('Number of skill:', train_data['skill'].sum())\n",
        "print('Number of Not Skill:', len(train_data['skill']) - train_data['skill'].sum())\n",
        "print('Ratio of classes: Skill=', train_data['skill'].sum() / len(train_data['skill']), ' Not Skill=', 1 - train_data['skill'].sum() / len(train_data['skill']))"
      ]
    },
    {
      "cell_type": "markdown",
      "metadata": {
        "id": "7KFhUA-UNEDQ"
      },
      "source": [
        "### Model Training"
      ]
    },
    {
      "cell_type": "code",
      "execution_count": 11,
      "metadata": {
        "colab": {
          "base_uri": "https://localhost:8080/"
        },
        "id": "DjPq33ZMKggk",
        "outputId": "304a3093-846d-4290-ba0d-8f0e1aac33ed"
      },
      "outputs": [
        {
          "name": "stdout",
          "output_type": "stream",
          "text": [
            "6,354 training samples\n",
            "1,589 validation samples\n"
          ]
        }
      ],
      "source": [
        "# splitting data 1st iter 85/15 2nd iter 80/20 \n",
        "# ensuring shuffling due to the sequentual nature of the training set\n",
        "X = train_data[\"text\"]\n",
        "y = train_data[\"skill\"]\n",
        "\n",
        "X_train, X_test, y_train, y_test = train_test_split(\n",
        "                                                    X, y, \n",
        "                                                    test_size = .2,\n",
        "                                                    random_state = 42,\n",
        "                                                    shuffle = True\n",
        "                                                    )\n",
        "\n",
        "print('{:>5,} training samples'.format(len(X_train)))\n",
        "print('{:>5,} validation samples'.format(len(X_test)))"
      ]
    },
    {
      "cell_type": "code",
      "execution_count": 12,
      "metadata": {
        "colab": {
          "base_uri": "https://localhost:8080/"
        },
        "id": "GZmMWudhLeLC",
        "outputId": "56b4747a-6193-458f-e705-7445d021708f"
      },
      "outputs": [
        {
          "name": "stderr",
          "output_type": "stream",
          "text": [
            "/tmp/ipykernel_45401/1553795918.py:4: FutureWarning: Support for multi-dimensional indexing (e.g. `obj[:, None]`) is deprecated and will be removed in a future version.  Convert to a numpy array before indexing instead.\n",
            "  train_text = X_train[:, np.newaxis]\n",
            "/tmp/ipykernel_45401/1553795918.py:5: FutureWarning: Support for multi-dimensional indexing (e.g. `obj[:, None]`) is deprecated and will be removed in a future version.  Convert to a numpy array before indexing instead.\n",
            "  test_text = X_test[:, np.newaxis]\n"
          ]
        },
        {
          "data": {
            "text/plain": [
              "((6354, 1), (1589, 1))"
            ]
          },
          "execution_count": 12,
          "metadata": {},
          "output_type": "execute_result"
        }
      ],
      "source": [
        "# According to analysis the largest chunk captured by regex was 18 tokens long\n",
        "max_seq_length = 18\n",
        "# data should be np array with new dimension for input \n",
        "train_text = X_train[:, np.newaxis]\n",
        "test_text = X_test[:, np.newaxis]\n",
        "# always should check and check again\n",
        "train_text.shape, test_text.shape"
      ]
    },
    {
      "cell_type": "markdown",
      "metadata": {
        "id": "bXmzpd9iMIOR"
      },
      "source": [
        "### Tokenization"
      ]
    },
    {
      "cell_type": "code",
      "execution_count": 13,
      "metadata": {
        "id": "65gPSNHqL-53"
      },
      "outputs": [],
      "source": [
        "class PaddingInputExample(object):\n",
        "    \"\"\"Fake example so the num input examples is a multiple of the batch size.\n",
        "  When running eval/predict on the TPU, we need to pad the number of examples\n",
        "  to be a multiple of the batch size, because the TPU requires a fixed batch\n",
        "  size. The alternative is to drop the last batch, which is bad because it means\n",
        "  the entire output data won't be generated.\n",
        "  We use this class instead of `None` because treating `None` as padding\n",
        "  battches could cause silent errors.\n",
        "  \"\"\"\n",
        "    pass"
      ]
    },
    {
      "cell_type": "code",
      "execution_count": 14,
      "metadata": {
        "id": "wCzuaRCQMBUy"
      },
      "outputs": [],
      "source": [
        "class InputExample(object):\n",
        "    \"\"\"A single training/test example for simple sequence classification.\"\"\"\n",
        "\n",
        "    def __init__(self, guid, text_a, text_b=None, label=None):\n",
        "        \"\"\"Constructs a InputExample.\n",
        "    Args:\n",
        "      guid: Unique id for the example.\n",
        "      text_a: string. The untokenized text of the first sequence. For single\n",
        "        sequence tasks, only this sequence must be specified.\n",
        "      text_b: (Optional) string. The untokenized text of the second sequence.\n",
        "        Only must be specified for sequence pair tasks.\n",
        "      label: (Optional) string. The label of the example. This should be\n",
        "        specified for train and dev examples, but not for test examples.\n",
        "    \"\"\"\n",
        "        self.guid = guid\n",
        "        self.text_a = text_a\n",
        "        self.text_b = text_b\n",
        "        self.label = label\n",
        "\n",
        "def create_tokenizer_from_hub_module():\n",
        "    \"\"\"Get the vocab file and casing info from the Hub module.\"\"\"\n",
        "    BertTokenizer = bert.bert_tokenization.FullTokenizer\n",
        "    bert_layer = hub.KerasLayer(\"https://tfhub.dev/tensorflow/bert_en_uncased_L-12_H-768_A-12/1\",\n",
        "                                trainable=False)\n",
        "    vocabulary_file = bert_layer.resolved_object.vocab_file.asset_path.numpy()\n",
        "    to_lower_case = bert_layer.resolved_object.do_lower_case.numpy()\n",
        "    tokenizer = BertTokenizer(vocabulary_file, to_lower_case)\n",
        "\n",
        "    return tokenizer\n",
        "\n",
        "def convert_single_example(tokenizer, example, max_seq_length=256):\n",
        "    \"\"\"Converts a single `InputExample` into a single `InputFeatures`.\"\"\"\n",
        "\n",
        "    if isinstance(example, PaddingInputExample):\n",
        "        input_ids = [0] * max_seq_length\n",
        "        input_mask = [0] * max_seq_length\n",
        "        segment_ids = [0] * max_seq_length\n",
        "        label = 0\n",
        "        return input_ids, input_mask, segment_ids, label\n",
        "\n",
        "    tokens_a = tokenizer.tokenize(example.text_a)\n",
        "    if len(tokens_a) > max_seq_length - 2:\n",
        "        tokens_a = tokens_a[0 : (max_seq_length - 2)]\n",
        "\n",
        "    tokens = []\n",
        "    segment_ids = []\n",
        "    tokens.append(\"[CLS]\")\n",
        "    segment_ids.append(0)\n",
        "    for token in tokens_a:\n",
        "        tokens.append(token)\n",
        "        segment_ids.append(0)\n",
        "    tokens.append(\"[SEP]\")\n",
        "    segment_ids.append(0)\n",
        "\n",
        "    input_ids = tokenizer.convert_tokens_to_ids(tokens)\n",
        "\n",
        "    # The mask has 1 for real tokens and 0 for padding tokens. Only real\n",
        "    # tokens are attended to.\n",
        "    input_mask = [1] * len(input_ids)\n",
        "\n",
        "    # Zero-pad up to the sequence length.\n",
        "    while len(input_ids) < max_seq_length:\n",
        "        input_ids.append(0)\n",
        "        input_mask.append(0)\n",
        "        segment_ids.append(0)\n",
        "\n",
        "    assert len(input_ids) == max_seq_length\n",
        "    assert len(input_mask) == max_seq_length\n",
        "    assert len(segment_ids) == max_seq_length\n",
        "\n",
        "    return input_ids, input_mask, segment_ids, example.label\n",
        "\n",
        "def convert_examples_to_features(tokenizer, examples, max_seq_length=256):\n",
        "    \"\"\"Convert a set of `InputExample`s to a list of `InputFeatures`.\"\"\"\n",
        "\n",
        "    input_ids, input_masks, segment_ids, labels = [], [], [], []\n",
        "    for example in tqdm_notebook(examples, desc=\"Converting examples to features\"):\n",
        "        input_id, input_mask, segment_id, label = convert_single_example(\n",
        "            tokenizer, example, max_seq_length\n",
        "        )\n",
        "        input_ids.append(input_id)\n",
        "        input_masks.append(input_mask)\n",
        "        segment_ids.append(segment_id)\n",
        "        labels.append(label)\n",
        "    return (\n",
        "        np.array(input_ids),\n",
        "        np.array(input_masks),\n",
        "        np.array(segment_ids),\n",
        "        np.array(labels).reshape(-1, 1),\n",
        "    )\n",
        "\n",
        "def convert_text_to_examples(texts, labels):\n",
        "    \"\"\"Create InputExamples\"\"\"\n",
        "    InputExamples = []\n",
        "    for text, label in zip(texts, labels):\n",
        "        InputExamples.append(\n",
        "            InputExample(guid=None, text_a=\" \".join(str(text)), text_b=None, label=label)\n",
        "        )\n",
        "    return InputExamples"
      ]
    },
    {
      "cell_type": "code",
      "execution_count": 15,
      "metadata": {
        "colab": {
          "base_uri": "https://localhost:8080/",
          "height": 116,
          "referenced_widgets": [
            "13e829ea5a7247768d62f0f460fc358f",
            "e774e9b5450d4287a00a63c3481cbcfb",
            "1ca838b5dce04dad8b0d0861a7e27b78",
            "9cd41fa993e042f0b1b6967f9498c3a8",
            "f9951bdcbe004d2fa05a708cfea3cd46",
            "ccbbb25168d74225874660479adcb230",
            "07b458cf97424d7692e03c7fcdf5b650",
            "629f7baf9eeb4001b68de64c72ee711a",
            "adce26660c0043bcb404186e823ce43e",
            "f37dcc2e3d6d4455a321b780bde43c76",
            "db538957fd4f46b0a3bff4a0971de467",
            "64462861bde74e44b4e8b02d37eb294e",
            "34f98fdf05f244ccb656a576fc8b7a04",
            "9a50d2caae1140f1a9d84f2bdf645cf7",
            "6db08622cd284ab6ab08b1d40a476573",
            "444c0fed2de042c2a925da78343ec50c",
            "9c8e6b36817a4cec9b1696e98c25a2be",
            "fcd9283302c84b5cb3d89ba2b0dad0d1",
            "7ca89e6912dd4860876192b0b3c8da02",
            "59d260262e124417a91b67e80a0dfe9e",
            "f805b121042a4e38996f7d82f0ef083a",
            "6f3fc16c429245f2b790851b152cc8ba"
          ]
        },
        "id": "fHbs7JI8NRvu",
        "outputId": "b7891b64-e59a-4b00-ee80-6b81b9d1a11f"
      },
      "outputs": [
        {
          "name": "stderr",
          "output_type": "stream",
          "text": [
            "2022-03-29 11:04:02.818563: I tensorflow/stream_executor/cuda/cuda_gpu_executor.cc:939] successful NUMA node read from SysFS had negative value (-1), but there must be at least one NUMA node, so returning NUMA node zero\n",
            "2022-03-29 11:04:02.818779: I tensorflow/stream_executor/cuda/cuda_gpu_executor.cc:939] successful NUMA node read from SysFS had negative value (-1), but there must be at least one NUMA node, so returning NUMA node zero\n",
            "2022-03-29 11:04:02.818911: I tensorflow/stream_executor/cuda/cuda_gpu_executor.cc:939] successful NUMA node read from SysFS had negative value (-1), but there must be at least one NUMA node, so returning NUMA node zero\n",
            "2022-03-29 11:04:02.819061: I tensorflow/stream_executor/cuda/cuda_gpu_executor.cc:939] successful NUMA node read from SysFS had negative value (-1), but there must be at least one NUMA node, so returning NUMA node zero\n",
            "2022-03-29 11:04:02.819165: I tensorflow/stream_executor/cuda/cuda_gpu_executor.cc:939] successful NUMA node read from SysFS had negative value (-1), but there must be at least one NUMA node, so returning NUMA node zero\n",
            "2022-03-29 11:04:02.819240: I tensorflow/core/common_runtime/gpu/gpu_device.cc:1525] Created device /job:localhost/replica:0/task:0/device:GPU:0 with 6628 MB memory:  -> device: 0, name: NVIDIA GeForce RTX 2080, pci bus id: 0000:01:00.0, compute capability: 7.5\n",
            "/tmp/ipykernel_45401/452287323.py:77: TqdmDeprecationWarning: This function will be removed in tqdm==5.0.0\n",
            "Please use `tqdm.notebook.tqdm` instead of `tqdm.tqdm_notebook`\n",
            "  for example in tqdm_notebook(examples, desc=\"Converting examples to features\"):\n"
          ]
        },
        {
          "data": {
            "application/vnd.jupyter.widget-view+json": {
              "model_id": "881d28e0e87745da812f8891e62eadef",
              "version_major": 2,
              "version_minor": 0
            },
            "text/plain": [
              "Converting examples to features:   0%|          | 0/6354 [00:00<?, ?it/s]"
            ]
          },
          "metadata": {},
          "output_type": "display_data"
        },
        {
          "data": {
            "application/vnd.jupyter.widget-view+json": {
              "model_id": "576aee9aaae2432682fe0cb1e9b703b6",
              "version_major": 2,
              "version_minor": 0
            },
            "text/plain": [
              "Converting examples to features:   0%|          | 0/1589 [00:00<?, ?it/s]"
            ]
          },
          "metadata": {},
          "output_type": "display_data"
        }
      ],
      "source": [
        "# Instantiate tokenizer\n",
        "tokenizer = create_tokenizer_from_hub_module()\n",
        "\n",
        "# Convert data to InputExample format\n",
        "train_examples = convert_text_to_examples(train_text, y_train)\n",
        "test_examples = convert_text_to_examples(test_text, y_test)\n",
        "\n",
        "# Convert to features\n",
        "(train_input_ids, train_input_masks, train_segment_ids, train_labels \n",
        ") = convert_examples_to_features(tokenizer, train_examples, max_seq_length=max_seq_length)\n",
        "(test_input_ids, test_input_masks, test_segment_ids, test_labels\n",
        ") = convert_examples_to_features(tokenizer, test_examples, max_seq_length=max_seq_length)"
      ]
    },
    {
      "cell_type": "markdown",
      "metadata": {
        "id": "1hu4AOzBNTHQ"
      },
      "source": [
        "### Embedding"
      ]
    },
    {
      "cell_type": "code",
      "execution_count": 16,
      "metadata": {
        "id": "7cIdGLMuNY4m"
      },
      "outputs": [],
      "source": [
        "class BertModel(object):\n",
        "    \n",
        "    def __init__(self):\n",
        "        \n",
        "        self.max_len = 18\n",
        "        bert_path = \"https://tfhub.dev/tensorflow/bert_en_uncased_L-12_H-768_A-12/1\"\n",
        "        FullTokenizer=bert.bert_tokenization.FullTokenizer\n",
        "        \n",
        "        self.bert_module = hub.KerasLayer(bert_path,trainable=True)\n",
        "\n",
        "        self.vocab_file = self.bert_module.resolved_object.vocab_file.asset_path.numpy()\n",
        "\n",
        "        self.do_lower_case = self.bert_module.resolved_object.do_lower_case.numpy()\n",
        "\n",
        "        self.tokenizer = FullTokenizer(self.vocab_file,self.do_lower_case)\n",
        "        \n",
        "    def get_masks(self,tokens, max_seq_length):\n",
        "        return [1]*len(tokens) + [0] * (max_seq_length - len(tokens))\n",
        "\n",
        "    def get_segments(self,tokens, max_seq_length):\n",
        "        \"\"\"Segments: 0 for the first sequence, 1 for the second\"\"\"\n",
        "        segments = []\n",
        "        current_segment_id = 0\n",
        "        for token in tokens:\n",
        "            segments.append(current_segment_id)\n",
        "            if token == \"[SEP]\":\n",
        "                current_segment_id = 1\n",
        "        return segments + [0] * (max_seq_length - len(tokens))\n",
        "    \n",
        "    def get_ids(self,tokens, tokenizer, max_seq_length):\n",
        "        \"\"\"Token ids from Tokenizer vocab\"\"\"\n",
        "        token_ids = tokenizer.convert_tokens_to_ids(tokens,)\n",
        "        input_ids = token_ids + [0] * (max_seq_length-len(token_ids))\n",
        "        return input_ids\n",
        "    def create_single_input(self,sentence,maxlen):\n",
        "\n",
        "        stokens = self.tokenizer.tokenize(sentence)\n",
        "\n",
        "        stokens = stokens[:maxlen]\n",
        "\n",
        "        stokens = [\"[CLS]\"] + stokens + [\"[SEP]\"]\n",
        "\n",
        "        ids = self.get_ids(stokens, self.tokenizer, self.max_len)\n",
        "        masks = self.get_masks(stokens, self.max_len)\n",
        "        segments = self.get_segments(stokens, self.max_len)\n",
        "\n",
        "        return ids,masks,segments\n",
        "\n",
        "    def create_input_array(self,sentences):\n",
        "        \n",
        "        input_ids, input_masks, input_segments = [], [], []\n",
        "\n",
        "        for sentence in tqdm_notebook(sentences,position=0, leave=True):\n",
        "            ids,masks,segments=self.create_single_input(sentence,self.max_len-2)\n",
        "\n",
        "            input_ids.append(ids)\n",
        "            input_masks.append(masks)\n",
        "            input_segments.append(segments)\n",
        "            \n",
        "        tensor = [np.asarray(input_ids, dtype=np.int32), \n",
        "                np.asarray(input_masks, dtype=np.int32), \n",
        "                np.asarray(input_segments, dtype=np.int32)]\n",
        "        return tensor"
      ]
    },
    {
      "cell_type": "code",
      "execution_count": 17,
      "metadata": {
        "id": "Gv8rXadEbqgK"
      },
      "outputs": [],
      "source": [
        "class PreprocessingBertData():\n",
        "    \n",
        "    def prepare_data_x(self,train_sentences):\n",
        "        x = bert_model_obj.create_input_array(train_sentences)\n",
        "        return x\n",
        "    \n",
        "    def prepare_data_y(self,train_labels):\n",
        "        y = list()\n",
        "        for item in train_labels:\n",
        "            label = item\n",
        "            y.append(label)\n",
        "        y = np.array(y)\n",
        "        return y"
      ]
    },
    {
      "cell_type": "code",
      "execution_count": 18,
      "metadata": {
        "id": "_BoNy4o6cdUV"
      },
      "outputs": [],
      "source": [
        "bert_model_obj = BertModel()"
      ]
    },
    {
      "cell_type": "markdown",
      "metadata": {
        "id": "MruTxhZsNfjQ"
      },
      "source": [
        "### Network Archetecture"
      ]
    },
    {
      "cell_type": "code",
      "execution_count": 19,
      "metadata": {
        "id": "ReEkcKaob0cu"
      },
      "outputs": [],
      "source": [
        "class NetworkModel():\n",
        "    def __init__(self):\n",
        "        self.model = None        \n",
        "        self.train_data = [train_input_ids, train_input_masks, train_segment_ids]\n",
        "        self.train_labels = train_labels\n",
        "        self.test_data = [test_input_ids, test_input_masks, test_segment_ids]\n",
        "        self.test_labels = test_labels\n",
        "        \n",
        "    def bert_model(self,max_seq_length): \n",
        "        in_id = Input(shape=(max_seq_length,), dtype=tf.int32, name=\"input_ids\")\n",
        "        in_mask = Input(shape=(max_seq_length,), dtype=tf.int32, name=\"input_masks\")\n",
        "        in_segment = Input(shape=(max_seq_length,), dtype=tf.int32, name=\"segment_ids\")\n",
        "        \n",
        "        bert_inputs = [in_id, in_mask, in_segment]\n",
        "\n",
        "        pooled_output, sequence_output = bert_model_obj.bert_module(bert_inputs)\n",
        "        \"\"\"\n",
        "        #x = tf.keras.layers.GlobalAveragePooling1D()(sequence_output)\n",
        "        x = tf.keras.layers.SpatialDropout1D(0.2)(sequence_output)\n",
        "        x = tf.keras.layers.LSTM(64, dropout=0.2, recurrent_dropout=0.2),\n",
        "        pred = tf.keras.layers.Dense(units=1, activation='sigmoid')(x)\n",
        "        optimizer = tf.keras.optimizers.Adam(lr=0.00001)\n",
        "        self.model = tf.keras.models.Model(inputs=bert_inputs, outputs=pred)\n",
        "        self.model.compile(optimizer=optimizer, loss='binary_crossentropy', metrics=['accuracy'])\n",
        "        \"\"\"\n",
        "        \n",
        "        x = tf.keras.layers.GlobalAveragePooling1D()(sequence_output)\n",
        "        x = tf.keras.layers.Dense(128, activation='relu')(x)\n",
        "        x = tf.keras.layers.Dense(64, activation='relu')(x)\n",
        "        x = tf.keras.layers.Dense(32, activation='relu')(x)\n",
        "        x = tf.keras.layers.Dense(24, activation='tanh')(x)\n",
        "        x = tf.keras.layers.Dense(12, activation='relu')(x)\n",
        "        pred = tf.keras.layers.Dense(1, activation='softplus')(x)\n",
        "        optimizer = tf.keras.optimizers.Adam(lr=0.00001)\n",
        "        self.model = tf.keras.models.Model(inputs=bert_inputs, outputs=pred)\n",
        "        self.model.compile(optimizer=optimizer, loss='binary_crossentropy', metrics=['accuracy'])\n",
        "        \n",
        "        \n",
        "        \n",
        "        self.model.summary()\n",
        "    \n",
        "    def model_train(self,batch_size,num_epoch):\n",
        "        print(\"Fitting to Model\")\n",
        "        \n",
        "        self.model.fit(self.train_data,self.train_labels,epochs=num_epoch,batch_size=batch_size,validation_split=0.2,shuffle=True)\n",
        "        \n",
        "        print(\"Model Training Complete.\")\n",
        "    \n",
        "    def model_test(self):\n",
        "        print(\"Model Testing on Unseen Data\")\n",
        "\n",
        "        self.model.evaluate(self.test_data, self.test_labels)\n",
        "        \n",
        "        print(\"Model Testing Complete.\")\n",
        "\n",
        "    def save_model(self,model_folder,model_name):    \n",
        "        self.model.save(model_name+\".h5\", overwrite=True, include_optimizer=True)\n",
        "        print(\"Model saved to Model folder.\")\n",
        "\n",
        "    def get_model(self):    \n",
        "        return self.model"
      ]
    },
    {
      "cell_type": "code",
      "execution_count": 20,
      "metadata": {
        "colab": {
          "base_uri": "https://localhost:8080/",
          "height": 347
        },
        "id": "ACXfsQ67dIA0",
        "outputId": "3a68ee29-6f4f-4337-b2ab-a00f8b0d7712"
      },
      "outputs": [
        {
          "name": "stdout",
          "output_type": "stream",
          "text": [
            "Model: \"model\"\n",
            "__________________________________________________________________________________________________\n",
            " Layer (type)                   Output Shape         Param #     Connected to                     \n",
            "==================================================================================================\n",
            " input_ids (InputLayer)         [(None, 18)]         0           []                               \n",
            "                                                                                                  \n",
            " input_masks (InputLayer)       [(None, 18)]         0           []                               \n",
            "                                                                                                  \n",
            " segment_ids (InputLayer)       [(None, 18)]         0           []                               \n",
            "                                                                                                  \n",
            " keras_layer_1 (KerasLayer)     [(None, 768),        109482241   ['input_ids[0][0]',              \n",
            "                                 (None, 18, 768)]                 'input_masks[0][0]',            \n",
            "                                                                  'segment_ids[0][0]']            \n",
            "                                                                                                  \n",
            " global_average_pooling1d (Glob  (None, 768)         0           ['keras_layer_1[0][1]']          \n",
            " alAveragePooling1D)                                                                              \n",
            "                                                                                                  \n",
            " dense (Dense)                  (None, 128)          98432       ['global_average_pooling1d[0][0]'\n",
            "                                                                 ]                                \n",
            "                                                                                                  \n",
            " dense_1 (Dense)                (None, 64)           8256        ['dense[0][0]']                  \n",
            "                                                                                                  \n",
            " dense_2 (Dense)                (None, 32)           2080        ['dense_1[0][0]']                \n",
            "                                                                                                  \n",
            " dense_3 (Dense)                (None, 24)           792         ['dense_2[0][0]']                \n",
            "                                                                                                  \n",
            " dense_4 (Dense)                (None, 12)           300         ['dense_3[0][0]']                \n",
            "                                                                                                  \n",
            " dense_5 (Dense)                (None, 1)            13          ['dense_4[0][0]']                \n",
            "                                                                                                  \n",
            "==================================================================================================\n",
            "Total params: 109,592,114\n",
            "Trainable params: 109,592,113\n",
            "Non-trainable params: 1\n",
            "__________________________________________________________________________________________________\n"
          ]
        },
        {
          "name": "stderr",
          "output_type": "stream",
          "text": [
            "/usr/shared/CMPT/big-data/condaenv/gt/lib/python3.9/site-packages/keras/optimizer_v2/adam.py:105: UserWarning: The `lr` argument is deprecated, use `learning_rate` instead.\n",
            "  super(Adam, self).__init__(name, **kwargs)\n"
          ]
        }
      ],
      "source": [
        "model_obj = NetworkModel()\n",
        "model_obj.bert_model(bert_model_obj.max_len)"
      ]
    },
    {
      "cell_type": "markdown",
      "metadata": {
        "id": "RJvX6sKyNoHn"
      },
      "source": [
        "### Start Training"
      ]
    },
    {
      "cell_type": "code",
      "execution_count": 21,
      "metadata": {
        "id": "_Jwv0v2LNvRU"
      },
      "outputs": [
        {
          "name": "stdout",
          "output_type": "stream",
          "text": [
            "Fitting to Model\n",
            "Epoch 1/20\n",
            "85/85 [==============================] - 20s 142ms/step - loss: 0.5428 - accuracy: 0.7334 - val_loss: 0.5085 - val_accuracy: 0.7467\n",
            "Epoch 2/20\n",
            "85/85 [==============================] - 11s 135ms/step - loss: 0.5209 - accuracy: 0.7452 - val_loss: 0.5139 - val_accuracy: 0.7262\n",
            "Epoch 3/20\n",
            "85/85 [==============================] - 12s 136ms/step - loss: 0.5097 - accuracy: 0.7602 - val_loss: 0.5039 - val_accuracy: 0.7309\n",
            "Epoch 4/20\n",
            "85/85 [==============================] - 12s 137ms/step - loss: 0.4984 - accuracy: 0.7647 - val_loss: 0.5433 - val_accuracy: 0.7325\n",
            "Epoch 5/20\n",
            "85/85 [==============================] - 12s 138ms/step - loss: 0.4903 - accuracy: 0.7732 - val_loss: 0.5173 - val_accuracy: 0.7482\n",
            "Epoch 6/20\n",
            "85/85 [==============================] - 12s 138ms/step - loss: 0.4554 - accuracy: 0.7909 - val_loss: 0.5045 - val_accuracy: 0.7648\n",
            "Epoch 7/20\n",
            "85/85 [==============================] - 12s 138ms/step - loss: 0.4468 - accuracy: 0.7863 - val_loss: 0.6553 - val_accuracy: 0.7742\n",
            "Epoch 8/20\n",
            "85/85 [==============================] - 12s 138ms/step - loss: 0.4482 - accuracy: 0.7885 - val_loss: 0.4983 - val_accuracy: 0.7592\n",
            "Epoch 9/20\n",
            "85/85 [==============================] - 12s 138ms/step - loss: 0.4276 - accuracy: 0.7919 - val_loss: 0.4964 - val_accuracy: 0.7419\n",
            "Epoch 10/20\n",
            "85/85 [==============================] - 12s 138ms/step - loss: 0.3705 - accuracy: 0.8310 - val_loss: 0.6407 - val_accuracy: 0.7758\n",
            "Epoch 11/20\n",
            "85/85 [==============================] - 12s 138ms/step - loss: 0.3660 - accuracy: 0.8257 - val_loss: 0.4816 - val_accuracy: 0.7679\n",
            "Epoch 12/20\n",
            "85/85 [==============================] - 12s 138ms/step - loss: 0.3187 - accuracy: 0.8513 - val_loss: 0.9558 - val_accuracy: 0.7797\n",
            "Epoch 13/20\n",
            "85/85 [==============================] - 12s 138ms/step - loss: 0.3110 - accuracy: 0.8847 - val_loss: 0.9800 - val_accuracy: 0.7797\n",
            "Epoch 14/20\n",
            "85/85 [==============================] - 12s 138ms/step - loss: 0.3226 - accuracy: 0.8705 - val_loss: 0.8414 - val_accuracy: 0.3784\n",
            "Epoch 15/20\n",
            "85/85 [==============================] - 12s 138ms/step - loss: 0.3113 - accuracy: 0.8582 - val_loss: 0.8770 - val_accuracy: 0.7718\n",
            "Epoch 16/20\n",
            "85/85 [==============================] - 12s 138ms/step - loss: 0.2016 - accuracy: 0.9260 - val_loss: 1.1864 - val_accuracy: 0.7781\n",
            "Epoch 17/20\n",
            "85/85 [==============================] - 12s 139ms/step - loss: 0.1577 - accuracy: 0.9553 - val_loss: 1.3474 - val_accuracy: 0.7718\n",
            "Epoch 18/20\n",
            "85/85 [==============================] - 12s 139ms/step - loss: 0.1349 - accuracy: 0.9717 - val_loss: 1.6043 - val_accuracy: 0.7931\n",
            "Epoch 19/20\n",
            "85/85 [==============================] - 12s 139ms/step - loss: 0.3677 - accuracy: 0.8428 - val_loss: 0.7925 - val_accuracy: 0.7821\n",
            "Epoch 20/20\n",
            "85/85 [==============================] - 12s 139ms/step - loss: 0.4233 - accuracy: 0.8342 - val_loss: 0.6651 - val_accuracy: 0.7789\n",
            "Model Training Complete.\n"
          ]
        },
        {
          "data": {
            "text/plain": [
              "'\\nmodel.fit(\\n        [train_input_ids, train_input_masks, train_segment_ids], \\n        train_labels,\\n        validation_data=([test_input_ids, test_input_masks, test_segment_ids], test_labels),\\n        epochs=6,\\n        batch_size=60\\n         )\\n'"
            ]
          },
          "execution_count": 21,
          "metadata": {},
          "output_type": "execute_result"
        }
      ],
      "source": [
        "# training model 1st iter 25 epochs and was clear that less than 10 epochs were sufficient\n",
        "# anywhere from 6~8 epochs deliver optimal results; batch size was unchanged, softplus\n",
        "\n",
        "# training model 2nd iter 8 epochs; still only 60% on unseen\n",
        "# splitting changed 80/20 batch size was increased tp 50, sigmoid in place of soft plus\n",
        "#model = build_model(max_seq_length)\n",
        "\n",
        "model = model_obj\n",
        "\n",
        "# Instantiate variables\n",
        "#initialize_vars(sess)\n",
        "\n",
        "# batch_size = 60\n",
        "# num_epoch = 6\n",
        "model.model_train(60, 20)\n",
        "\n",
        "'''\n",
        "model.fit(\n",
        "        [train_input_ids, train_input_masks, train_segment_ids], \n",
        "        train_labels,\n",
        "        validation_data=([test_input_ids, test_input_masks, test_segment_ids], test_labels),\n",
        "        epochs=6,\n",
        "        batch_size=60\n",
        "         )\n",
        "'''"
      ]
    },
    {
      "cell_type": "code",
      "execution_count": 22,
      "metadata": {
        "id": "jaEmRrBdz01L"
      },
      "outputs": [
        {
          "name": "stdout",
          "output_type": "stream",
          "text": [
            "Model saved to Model folder.\n"
          ]
        }
      ],
      "source": [
        "model.save_model(input_path, \"job_skill_extraction_bert\")"
      ]
    },
    {
      "cell_type": "markdown",
      "metadata": {
        "id": "8iidoEhv_sDC"
      },
      "source": [
        "## **Model Evaluation**"
      ]
    },
    {
      "cell_type": "code",
      "execution_count": 23,
      "metadata": {},
      "outputs": [
        {
          "name": "stdout",
          "output_type": "stream",
          "text": [
            "Defaulting to user installation because normal site-packages is not writeable\n",
            "Requirement already satisfied: pydot in /home/ytc17/.local/lib/python3.9/site-packages (1.4.2)\n",
            "Requirement already satisfied: pyparsing>=2.1.4 in /usr/shared/CMPT/big-data/condaenv/gt/lib/python3.9/site-packages (from pydot) (3.0.7)\n",
            "Note: you may need to restart the kernel to use updated packages.\n",
            "Defaulting to user installation because normal site-packages is not writeable\n",
            "Requirement already satisfied: graphviz in /home/ytc17/.local/lib/python3.9/site-packages (0.19.1)\n",
            "Note: you may need to restart the kernel to use updated packages.\n"
          ]
        }
      ],
      "source": [
        "%pip install pydot\n",
        "%pip install graphviz"
      ]
    },
    {
      "cell_type": "code",
      "execution_count": 24,
      "metadata": {
        "id": "-xoMEtC35bLE"
      },
      "outputs": [
        {
          "data": {
            "image/png": "[encoded data removed]",
            "text/plain": [
              "<IPython.core.display.Image object>"
            ]
          },
          "execution_count": 24,
          "metadata": {},
          "output_type": "execute_result"
        }
      ],
      "source": [
        "# After many interations to find an optimal structure this is the result\n",
        "tf.keras.utils.plot_model(model_obj.get_model(), show_shapes=True, dpi=48)\n"
      ]
    },
    {
      "cell_type": "code",
      "execution_count": 25,
      "metadata": {
        "id": "F5cbmPTQ_zFz"
      },
      "outputs": [
        {
          "name": "stdout",
          "output_type": "stream",
          "text": [
            "50/50 [==============================] - 1s 29ms/step - loss: 0.6448 - accuracy: 0.7804\n",
            "Test set\n",
            "  Loss: 0.645\n",
            "  Accuracy: 0.780\n"
          ]
        }
      ],
      "source": [
        "# Accuracy on 1st iter ~85%; Accuracy on 2nd iter +0.5\n",
        "\n",
        "accr = model_obj.get_model().evaluate([test_input_ids, \n",
        "                       test_input_masks, \n",
        "                       test_segment_ids], \n",
        "                       y_test)\n",
        "print('Test set\\n  Loss: {:0.3f}\\n  Accuracy: {:0.3f}'.format(accr[0],accr[1]))"
      ]
    },
    {
      "cell_type": "code",
      "execution_count": 26,
      "metadata": {
        "id": "qi1ldcdOAFsO"
      },
      "outputs": [
        {
          "name": "stderr",
          "output_type": "stream",
          "text": [
            "/tmp/ipykernel_45401/452287323.py:77: TqdmDeprecationWarning: This function will be removed in tqdm==5.0.0\n",
            "Please use `tqdm.notebook.tqdm` instead of `tqdm.tqdm_notebook`\n",
            "  for example in tqdm_notebook(examples, desc=\"Converting examples to features\"):\n"
          ]
        },
        {
          "data": {
            "application/vnd.jupyter.widget-view+json": {
              "model_id": "3524366864d243b0910867ae608af8fc",
              "version_major": 2,
              "version_minor": 0
            },
            "text/plain": [
              "Converting examples to features:   0%|          | 0/10 [00:00<?, ?it/s]"
            ]
          },
          "metadata": {},
          "output_type": "display_data"
        }
      ],
      "source": [
        "# Test on (assuming) unseen data\n",
        "unseen = np.array([ \n",
        "                   'mongodb',\n",
        "                   'statistics , mathematics , biostatistics',\n",
        "                   'experience in python', \n",
        "                   'language e.g',\n",
        "                   'this is fucking bullshit', \n",
        "                   'the definition', \n",
        "                   'hard-worker',\n",
        "                   'san francisco bay area' ,\n",
        "                   'many things',\n",
        "                   'passion for data',\n",
        "                   ])\n",
        "unseen_text = unseen[:, np.newaxis]\n",
        "\n",
        "# Instantiate tokenizer\n",
        "tokenizer = create_tokenizer_from_hub_module()\n",
        "\n",
        "# Convert data to InputExample format\n",
        "unseen_examples = convert_text_to_examples(unseen_text, np.zeros((10,1)))\n",
        "\n",
        "# Convert to features\n",
        "(unseen_input_ids, unseen_input_masks, unseen_segment_ids, unseen_labels \n",
        ") = convert_examples_to_features(tokenizer,\n",
        "                                 unseen_examples,\n",
        "                                 max_seq_length=max_seq_length)"
      ]
    },
    {
      "cell_type": "code",
      "execution_count": 27,
      "metadata": {
        "id": "EhQa-ro2AIwC"
      },
      "outputs": [
        {
          "name": "stdout",
          "output_type": "stream",
          "text": [
            "1/1 [==============================] - 1s 696ms/step - loss: 2.1683 - accuracy: 0.6000\n",
            "Test set\n",
            "  Loss: 2.168\n",
            "  Accuracy: 0.600\n"
          ]
        }
      ],
      "source": [
        "unseen_truth = np.array([0, 1, 1, 0, 1, 0, 1, 0, 0, 1])\n",
        "accr = model.get_model().evaluate([unseen_input_ids, \n",
        "                       unseen_input_masks, \n",
        "                       unseen_segment_ids], \n",
        "                       unseen_truth)\n",
        "print('Test set\\n  Loss: {:0.3f}\\n  Accuracy: {:0.3f}'.format(accr[0],accr[1]))"
      ]
    },
    {
      "cell_type": "code",
      "execution_count": 28,
      "metadata": {
        "id": "IN6KLrcaAKwB"
      },
      "outputs": [
        {
          "data": {
            "text/plain": [
              "(10, 1)"
            ]
          },
          "execution_count": 28,
          "metadata": {},
          "output_type": "execute_result"
        }
      ],
      "source": [
        "unseen_predictions = model.get_model().predict([unseen_input_ids, \n",
        "                                    unseen_input_masks, \n",
        "                                    unseen_segment_ids] \n",
        "                                    )\n",
        "unseen_predictions.shape"
      ]
    },
    {
      "cell_type": "code",
      "execution_count": 29,
      "metadata": {
        "id": "FvKJ0el1AOhs"
      },
      "outputs": [
        {
          "data": {
            "text/html": [
              "<div>\n",
              "<style scoped>\n",
              "    .dataframe tbody tr th:only-of-type {\n",
              "        vertical-align: middle;\n",
              "    }\n",
              "\n",
              "    .dataframe tbody tr th {\n",
              "        vertical-align: top;\n",
              "    }\n",
              "\n",
              "    .dataframe thead th {\n",
              "        text-align: right;\n",
              "    }\n",
              "</style>\n",
              "<table border=\"1\" class=\"dataframe\">\n",
              "  <thead>\n",
              "    <tr style=\"text-align: right;\">\n",
              "      <th></th>\n",
              "      <th>0</th>\n",
              "    </tr>\n",
              "  </thead>\n",
              "  <tbody>\n",
              "    <tr>\n",
              "      <th>mongodb</th>\n",
              "      <td>0.442940</td>\n",
              "    </tr>\n",
              "    <tr>\n",
              "      <th>statistics , mathematics , biostatistics</th>\n",
              "      <td>0.903280</td>\n",
              "    </tr>\n",
              "    <tr>\n",
              "      <th>experience in python</th>\n",
              "      <td>0.661584</td>\n",
              "    </tr>\n",
              "    <tr>\n",
              "      <th>language e.g</th>\n",
              "      <td>0.863715</td>\n",
              "    </tr>\n",
              "    <tr>\n",
              "      <th>this is fucking bullshit</th>\n",
              "      <td>0.756523</td>\n",
              "    </tr>\n",
              "    <tr>\n",
              "      <th>the definition</th>\n",
              "      <td>0.603612</td>\n",
              "    </tr>\n",
              "    <tr>\n",
              "      <th>hard-worker</th>\n",
              "      <td>0.725418</td>\n",
              "    </tr>\n",
              "    <tr>\n",
              "      <th>san francisco bay area</th>\n",
              "      <td>1.205204</td>\n",
              "    </tr>\n",
              "    <tr>\n",
              "      <th>many things</th>\n",
              "      <td>0.837246</td>\n",
              "    </tr>\n",
              "    <tr>\n",
              "      <th>passion for data</th>\n",
              "      <td>1.047685</td>\n",
              "    </tr>\n",
              "  </tbody>\n",
              "</table>\n",
              "</div>"
            ],
            "text/plain": [
              "                                                 0\n",
              "mongodb                                   0.442940\n",
              "statistics , mathematics , biostatistics  0.903280\n",
              "experience in python                      0.661584\n",
              "language e.g                              0.863715\n",
              "this is fucking bullshit                  0.756523\n",
              "the definition                            0.603612\n",
              "hard-worker                               0.725418\n",
              "san francisco bay area                    1.205204\n",
              "many things                               0.837246\n",
              "passion for data                          1.047685"
            ]
          },
          "execution_count": 29,
          "metadata": {},
          "output_type": "execute_result"
        }
      ],
      "source": [
        "predictions = pd.DataFrame(dict(list(zip(unseen, unseen_predictions))))\n",
        "predictions.T"
      ]
    },
    {
      "cell_type": "markdown",
      "metadata": {},
      "source": [
        "### Generate More Predictions for Evaluation Analysis"
      ]
    },
    {
      "cell_type": "code",
      "execution_count": 30,
      "metadata": {},
      "outputs": [],
      "source": [
        "sample_file1 = \"sample1.csv\"\n",
        "sample_file2 = \"sample2.csv\"\n",
        "predict_data_df1 = pd.read_csv(input_path+sample_file1)\n",
        "predict_data_df2 = pd.read_csv(input_path+sample_file2)\n",
        "\n",
        "predict_data1 = predict_data_df1['extractions'].to_numpy()[:, np.newaxis]\n",
        "predict_data2 = predict_data_df2['extractions'].to_numpy()[:, np.newaxis]\n",
        "\n",
        "# Instantiate tokenizer\n",
        "tokenizer = create_tokenizer_from_hub_module()\n",
        "\n",
        "# Convert data to InputExample format\n",
        "predict_text1 = convert_text_to_examples(predict_data1, np.zeros((predict_data_df1.shape[0],1)))\n",
        "predict_text2 = convert_text_to_examples(predict_data2, np.zeros((predict_data_df2.shape[0],1)))\n",
        "\n"
      ]
    },
    {
      "cell_type": "code",
      "execution_count": 31,
      "metadata": {},
      "outputs": [
        {
          "name": "stderr",
          "output_type": "stream",
          "text": [
            "/tmp/ipykernel_45401/452287323.py:77: TqdmDeprecationWarning: This function will be removed in tqdm==5.0.0\n",
            "Please use `tqdm.notebook.tqdm` instead of `tqdm.tqdm_notebook`\n",
            "  for example in tqdm_notebook(examples, desc=\"Converting examples to features\"):\n"
          ]
        },
        {
          "data": {
            "application/vnd.jupyter.widget-view+json": {
              "model_id": "a3a9688d2635409793458d692e106390",
              "version_major": 2,
              "version_minor": 0
            },
            "text/plain": [
              "Converting examples to features:   0%|          | 0/238 [00:00<?, ?it/s]"
            ]
          },
          "metadata": {},
          "output_type": "display_data"
        },
        {
          "data": {
            "text/html": [
              "<div>\n",
              "<style scoped>\n",
              "    .dataframe tbody tr th:only-of-type {\n",
              "        vertical-align: middle;\n",
              "    }\n",
              "\n",
              "    .dataframe tbody tr th {\n",
              "        vertical-align: top;\n",
              "    }\n",
              "\n",
              "    .dataframe thead th {\n",
              "        text-align: right;\n",
              "    }\n",
              "</style>\n",
              "<table border=\"1\" class=\"dataframe\">\n",
              "  <thead>\n",
              "    <tr style=\"text-align: right;\">\n",
              "      <th></th>\n",
              "      <th>0</th>\n",
              "    </tr>\n",
              "  </thead>\n",
              "  <tbody>\n",
              "    <tr>\n",
              "      <th>the hr data science analyst implements</th>\n",
              "      <td>0.743218</td>\n",
              "    </tr>\n",
              "    <tr>\n",
              "      <th>analytics models</th>\n",
              "      <td>1.292091</td>\n",
              "    </tr>\n",
              "    <tr>\n",
              "      <th>solutions</th>\n",
              "      <td>0.675158</td>\n",
              "    </tr>\n",
              "    <tr>\n",
              "      <th>prescriptive insights</th>\n",
              "      <td>0.830595</td>\n",
              "    </tr>\n",
              "    <tr>\n",
              "      <th>data</th>\n",
              "      <td>0.977330</td>\n",
              "    </tr>\n",
              "    <tr>\n",
              "      <th>...</th>\n",
              "      <td>...</td>\n",
              "    </tr>\n",
              "    <tr>\n",
              "      <th>does</th>\n",
              "      <td>0.302034</td>\n",
              "    </tr>\n",
              "    <tr>\n",
              "      <th>discriminate</th>\n",
              "      <td>0.607211</td>\n",
              "    </tr>\n",
              "    <tr>\n",
              "      <th>protected</th>\n",
              "      <td>0.380104</td>\n",
              "    </tr>\n",
              "    <tr>\n",
              "      <th>direction , business objectives ,</th>\n",
              "      <td>0.508182</td>\n",
              "    </tr>\n",
              "    <tr>\n",
              "      <th>data science , analytics , operations research</th>\n",
              "      <td>1.217032</td>\n",
              "    </tr>\n",
              "  </tbody>\n",
              "</table>\n",
              "<p>238 rows × 1 columns</p>\n",
              "</div>"
            ],
            "text/plain": [
              "                                                       0\n",
              "the hr data science analyst implements          0.743218\n",
              "analytics models                                1.292091\n",
              "solutions                                       0.675158\n",
              "prescriptive insights                           0.830595\n",
              "data                                            0.977330\n",
              "...                                                  ...\n",
              "does                                            0.302034\n",
              "discriminate                                    0.607211\n",
              "protected                                       0.380104\n",
              "direction , business objectives ,               0.508182\n",
              "data science , analytics , operations research  1.217032\n",
              "\n",
              "[238 rows x 1 columns]"
            ]
          },
          "execution_count": 31,
          "metadata": {},
          "output_type": "execute_result"
        }
      ],
      "source": [
        "# Convert to features\n",
        "(predict1_input_ids, predict1_input_masks, predict1_segment_ids, predict1_labels \n",
        ") = convert_examples_to_features(tokenizer,\n",
        "                                 predict_text1,\n",
        "                                 max_seq_length=max_seq_length)\n",
        "\n",
        "prediction1 = model.get_model().predict([predict1_input_ids, \n",
        "                                    predict1_input_masks, \n",
        "                                    predict1_segment_ids] \n",
        "                                    )\n",
        "\n",
        "\n",
        "predictions = pd.DataFrame(dict(list(zip(predict_data_df1['extractions'].to_numpy(), prediction1))))\n",
        "predictions.T"
      ]
    },
    {
      "cell_type": "code",
      "execution_count": 32,
      "metadata": {},
      "outputs": [
        {
          "name": "stderr",
          "output_type": "stream",
          "text": [
            "/tmp/ipykernel_45401/452287323.py:77: TqdmDeprecationWarning: This function will be removed in tqdm==5.0.0\n",
            "Please use `tqdm.notebook.tqdm` instead of `tqdm.tqdm_notebook`\n",
            "  for example in tqdm_notebook(examples, desc=\"Converting examples to features\"):\n"
          ]
        },
        {
          "data": {
            "application/vnd.jupyter.widget-view+json": {
              "model_id": "31a85a9443f4425f9ff08e28192efab2",
              "version_major": 2,
              "version_minor": 0
            },
            "text/plain": [
              "Converting examples to features:   0%|          | 0/249 [00:00<?, ?it/s]"
            ]
          },
          "metadata": {},
          "output_type": "display_data"
        },
        {
          "data": {
            "text/html": [
              "<div>\n",
              "<style scoped>\n",
              "    .dataframe tbody tr th:only-of-type {\n",
              "        vertical-align: middle;\n",
              "    }\n",
              "\n",
              "    .dataframe tbody tr th {\n",
              "        vertical-align: top;\n",
              "    }\n",
              "\n",
              "    .dataframe thead th {\n",
              "        text-align: right;\n",
              "    }\n",
              "</style>\n",
              "<table border=\"1\" class=\"dataframe\">\n",
              "  <thead>\n",
              "    <tr style=\"text-align: right;\">\n",
              "      <th></th>\n",
              "      <th>0</th>\n",
              "    </tr>\n",
              "  </thead>\n",
              "  <tbody>\n",
              "    <tr>\n",
              "      <th>the sales associate</th>\n",
              "      <td>0.885605</td>\n",
              "    </tr>\n",
              "    <tr>\n",
              "      <th>a customer-oriented sales</th>\n",
              "      <td>0.609241</td>\n",
              "    </tr>\n",
              "    <tr>\n",
              "      <th>ample experience</th>\n",
              "      <td>0.843302</td>\n",
              "    </tr>\n",
              "    <tr>\n",
              "      <th>maintenance agreements</th>\n",
              "      <td>1.287515</td>\n",
              "    </tr>\n",
              "    <tr>\n",
              "      <th>refrigeration industry</th>\n",
              "      <td>0.597585</td>\n",
              "    </tr>\n",
              "    <tr>\n",
              "      <th>...</th>\n",
              "      <td>...</td>\n",
              "    </tr>\n",
              "    <tr>\n",
              "      <th>visit</th>\n",
              "      <td>0.207825</td>\n",
              "    </tr>\n",
              "    <tr>\n",
              "      <th>find</th>\n",
              "      <td>0.229271</td>\n",
              "    </tr>\n",
              "    <tr>\n",
              "      <th>service agreements , repairs , equipment</th>\n",
              "      <td>1.384492</td>\n",
              "    </tr>\n",
              "    <tr>\n",
              "      <th>communication , problem solving ,</th>\n",
              "      <td>0.663546</td>\n",
              "    </tr>\n",
              "    <tr>\n",
              "      <th>word , excel ,</th>\n",
              "      <td>0.380444</td>\n",
              "    </tr>\n",
              "  </tbody>\n",
              "</table>\n",
              "<p>249 rows × 1 columns</p>\n",
              "</div>"
            ],
            "text/plain": [
              "                                                 0\n",
              "the sales associate                       0.885605\n",
              "a customer-oriented sales                 0.609241\n",
              "ample experience                          0.843302\n",
              "maintenance agreements                    1.287515\n",
              "refrigeration industry                    0.597585\n",
              "...                                            ...\n",
              "visit                                     0.207825\n",
              "find                                      0.229271\n",
              "service agreements , repairs , equipment  1.384492\n",
              "communication , problem solving ,         0.663546\n",
              "word , excel ,                            0.380444\n",
              "\n",
              "[249 rows x 1 columns]"
            ]
          },
          "execution_count": 32,
          "metadata": {},
          "output_type": "execute_result"
        }
      ],
      "source": [
        "# Convert to features\n",
        "(predict2_input_ids, predict2_input_masks, predict2_segment_ids, predict2_labels \n",
        ") = convert_examples_to_features(tokenizer,\n",
        "                                 predict_text2,\n",
        "                                 max_seq_length=max_seq_length)\n",
        "\n",
        "prediction2 = model.get_model().predict([predict2_input_ids, \n",
        "                                    predict2_input_masks, \n",
        "                                    predict2_segment_ids] \n",
        "                                    )\n",
        "predictions = pd.DataFrame(dict(list(zip(predict_data_df2['extractions'].to_numpy(), prediction2))))\n",
        "predictions.T"
      ]
    },
    {
      "cell_type": "code",
      "execution_count": 33,
      "metadata": {},
      "outputs": [],
      "source": [
        "predict_data_df1['prediction_prob'] = prediction1.reshape(-1)\n",
        "predict_data_df2['prediction_prob'] = prediction2.reshape(-1)\n",
        "\n",
        "predict_data_df1.to_csv(input_path+\"predictions1.csv\")\n",
        "predict_data_df2.to_csv(input_path+\"predictions2.csv\")"
      ]
    },
    {
      "cell_type": "markdown",
      "metadata": {},
      "source": []
    }
  ],
  "metadata": {
    "colab": {
      "collapsed_sections": [],
      "name": "job_skill_extraction_model.ipynb",
      "provenance": []
    },
    "kernelspec": {
      "display_name": "py-gt",
      "language": "python",
      "name": "py-gt"
    },
    "language_info": {
      "codemirror_mode": {
        "name": "ipython",
        "version": 3
      },
      "file_extension": ".py",
      "mimetype": "text/x-python",
      "name": "python",
      "nbconvert_exporter": "python",
      "pygments_lexer": "ipython3",
      "version": "3.9.10"
    },
    "widgets": {
      "application/vnd.jupyter.widget-state+json": {
        "07b458cf97424d7692e03c7fcdf5b650": {
          "model_module": "@jupyter-widgets/controls",
          "model_module_version": "1.5.0",
          "model_name": "DescriptionStyleModel",
          "state": {
            "_model_module": "@jupyter-widgets/controls",
            "_model_module_version": "1.5.0",
            "_model_name": "DescriptionStyleModel",
            "_view_count": null,
            "_view_module": "@jupyter-widgets/base",
            "_view_module_version": "1.2.0",
            "_view_name": "StyleView",
            "description_width": ""
          }
        },
        "13e829ea5a7247768d62f0f460fc358f": {
          "model_module": "@jupyter-widgets/controls",
          "model_module_version": "1.5.0",
          "model_name": "HBoxModel",
          "state": {
            "_dom_classes": [],
            "_model_module": "@jupyter-widgets/controls",
            "_model_module_version": "1.5.0",
            "_model_name": "HBoxModel",
            "_view_count": null,
            "_view_module": "@jupyter-widgets/controls",
            "_view_module_version": "1.5.0",
            "_view_name": "HBoxView",
            "box_style": "",
            "children": [
              "IPY_MODEL_e774e9b5450d4287a00a63c3481cbcfb",
              "IPY_MODEL_1ca838b5dce04dad8b0d0861a7e27b78",
              "IPY_MODEL_9cd41fa993e042f0b1b6967f9498c3a8"
            ],
            "layout": "IPY_MODEL_f9951bdcbe004d2fa05a708cfea3cd46"
          }
        },
        "1ca838b5dce04dad8b0d0861a7e27b78": {
          "model_module": "@jupyter-widgets/controls",
          "model_module_version": "1.5.0",
          "model_name": "FloatProgressModel",
          "state": {
            "_dom_classes": [],
            "_model_module": "@jupyter-widgets/controls",
            "_model_module_version": "1.5.0",
            "_model_name": "FloatProgressModel",
            "_view_count": null,
            "_view_module": "@jupyter-widgets/controls",
            "_view_module_version": "1.5.0",
            "_view_name": "ProgressView",
            "bar_style": "success",
            "description": "",
            "description_tooltip": null,
            "layout": "IPY_MODEL_629f7baf9eeb4001b68de64c72ee711a",
            "max": 6354,
            "min": 0,
            "orientation": "horizontal",
            "style": "IPY_MODEL_adce26660c0043bcb404186e823ce43e",
            "value": 6354
          }
        },
        "34f98fdf05f244ccb656a576fc8b7a04": {
          "model_module": "@jupyter-widgets/controls",
          "model_module_version": "1.5.0",
          "model_name": "HTMLModel",
          "state": {
            "_dom_classes": [],
            "_model_module": "@jupyter-widgets/controls",
            "_model_module_version": "1.5.0",
            "_model_name": "HTMLModel",
            "_view_count": null,
            "_view_module": "@jupyter-widgets/controls",
            "_view_module_version": "1.5.0",
            "_view_name": "HTMLView",
            "description": "",
            "description_tooltip": null,
            "layout": "IPY_MODEL_9c8e6b36817a4cec9b1696e98c25a2be",
            "placeholder": "​",
            "style": "IPY_MODEL_fcd9283302c84b5cb3d89ba2b0dad0d1",
            "value": "Converting examples to features: 100%"
          }
        },
        "444c0fed2de042c2a925da78343ec50c": {
          "model_module": "@jupyter-widgets/base",
          "model_module_version": "1.2.0",
          "model_name": "LayoutModel",
          "state": {
            "_model_module": "@jupyter-widgets/base",
            "_model_module_version": "1.2.0",
            "_model_name": "LayoutModel",
            "_view_count": null,
            "_view_module": "@jupyter-widgets/base",
            "_view_module_version": "1.2.0",
            "_view_name": "LayoutView",
            "align_content": null,
            "align_items": null,
            "align_self": null,
            "border": null,
            "bottom": null,
            "display": null,
            "flex": null,
            "flex_flow": null,
            "grid_area": null,
            "grid_auto_columns": null,
            "grid_auto_flow": null,
            "grid_auto_rows": null,
            "grid_column": null,
            "grid_gap": null,
            "grid_row": null,
            "grid_template_areas": null,
            "grid_template_columns": null,
            "grid_template_rows": null,
            "height": null,
            "justify_content": null,
            "justify_items": null,
            "left": null,
            "margin": null,
            "max_height": null,
            "max_width": null,
            "min_height": null,
            "min_width": null,
            "object_fit": null,
            "object_position": null,
            "order": null,
            "overflow": null,
            "overflow_x": null,
            "overflow_y": null,
            "padding": null,
            "right": null,
            "top": null,
            "visibility": null,
            "width": null
          }
        },
        "59d260262e124417a91b67e80a0dfe9e": {
          "model_module": "@jupyter-widgets/controls",
          "model_module_version": "1.5.0",
          "model_name": "ProgressStyleModel",
          "state": {
            "_model_module": "@jupyter-widgets/controls",
            "_model_module_version": "1.5.0",
            "_model_name": "ProgressStyleModel",
            "_view_count": null,
            "_view_module": "@jupyter-widgets/base",
            "_view_module_version": "1.2.0",
            "_view_name": "StyleView",
            "bar_color": null,
            "description_width": ""
          }
        },
        "629f7baf9eeb4001b68de64c72ee711a": {
          "model_module": "@jupyter-widgets/base",
          "model_module_version": "1.2.0",
          "model_name": "LayoutModel",
          "state": {
            "_model_module": "@jupyter-widgets/base",
            "_model_module_version": "1.2.0",
            "_model_name": "LayoutModel",
            "_view_count": null,
            "_view_module": "@jupyter-widgets/base",
            "_view_module_version": "1.2.0",
            "_view_name": "LayoutView",
            "align_content": null,
            "align_items": null,
            "align_self": null,
            "border": null,
            "bottom": null,
            "display": null,
            "flex": null,
            "flex_flow": null,
            "grid_area": null,
            "grid_auto_columns": null,
            "grid_auto_flow": null,
            "grid_auto_rows": null,
            "grid_column": null,
            "grid_gap": null,
            "grid_row": null,
            "grid_template_areas": null,
            "grid_template_columns": null,
            "grid_template_rows": null,
            "height": null,
            "justify_content": null,
            "justify_items": null,
            "left": null,
            "margin": null,
            "max_height": null,
            "max_width": null,
            "min_height": null,
            "min_width": null,
            "object_fit": null,
            "object_position": null,
            "order": null,
            "overflow": null,
            "overflow_x": null,
            "overflow_y": null,
            "padding": null,
            "right": null,
            "top": null,
            "visibility": null,
            "width": null
          }
        },
        "64462861bde74e44b4e8b02d37eb294e": {
          "model_module": "@jupyter-widgets/controls",
          "model_module_version": "1.5.0",
          "model_name": "HBoxModel",
          "state": {
            "_dom_classes": [],
            "_model_module": "@jupyter-widgets/controls",
            "_model_module_version": "1.5.0",
            "_model_name": "HBoxModel",
            "_view_count": null,
            "_view_module": "@jupyter-widgets/controls",
            "_view_module_version": "1.5.0",
            "_view_name": "HBoxView",
            "box_style": "",
            "children": [
              "IPY_MODEL_34f98fdf05f244ccb656a576fc8b7a04",
              "IPY_MODEL_9a50d2caae1140f1a9d84f2bdf645cf7",
              "IPY_MODEL_6db08622cd284ab6ab08b1d40a476573"
            ],
            "layout": "IPY_MODEL_444c0fed2de042c2a925da78343ec50c"
          }
        },
        "6db08622cd284ab6ab08b1d40a476573": {
          "model_module": "@jupyter-widgets/controls",
          "model_module_version": "1.5.0",
          "model_name": "HTMLModel",
          "state": {
            "_dom_classes": [],
            "_model_module": "@jupyter-widgets/controls",
            "_model_module_version": "1.5.0",
            "_model_name": "HTMLModel",
            "_view_count": null,
            "_view_module": "@jupyter-widgets/controls",
            "_view_module_version": "1.5.0",
            "_view_name": "HTMLView",
            "description": "",
            "description_tooltip": null,
            "layout": "IPY_MODEL_f805b121042a4e38996f7d82f0ef083a",
            "placeholder": "​",
            "style": "IPY_MODEL_6f3fc16c429245f2b790851b152cc8ba",
            "value": " 1589/1589 [00:00&lt;00:00, 4699.91it/s]"
          }
        },
        "6f3fc16c429245f2b790851b152cc8ba": {
          "model_module": "@jupyter-widgets/controls",
          "model_module_version": "1.5.0",
          "model_name": "DescriptionStyleModel",
          "state": {
            "_model_module": "@jupyter-widgets/controls",
            "_model_module_version": "1.5.0",
            "_model_name": "DescriptionStyleModel",
            "_view_count": null,
            "_view_module": "@jupyter-widgets/base",
            "_view_module_version": "1.2.0",
            "_view_name": "StyleView",
            "description_width": ""
          }
        },
        "7ca89e6912dd4860876192b0b3c8da02": {
          "model_module": "@jupyter-widgets/base",
          "model_module_version": "1.2.0",
          "model_name": "LayoutModel",
          "state": {
            "_model_module": "@jupyter-widgets/base",
            "_model_module_version": "1.2.0",
            "_model_name": "LayoutModel",
            "_view_count": null,
            "_view_module": "@jupyter-widgets/base",
            "_view_module_version": "1.2.0",
            "_view_name": "LayoutView",
            "align_content": null,
            "align_items": null,
            "align_self": null,
            "border": null,
            "bottom": null,
            "display": null,
            "flex": null,
            "flex_flow": null,
            "grid_area": null,
            "grid_auto_columns": null,
            "grid_auto_flow": null,
            "grid_auto_rows": null,
            "grid_column": null,
            "grid_gap": null,
            "grid_row": null,
            "grid_template_areas": null,
            "grid_template_columns": null,
            "grid_template_rows": null,
            "height": null,
            "justify_content": null,
            "justify_items": null,
            "left": null,
            "margin": null,
            "max_height": null,
            "max_width": null,
            "min_height": null,
            "min_width": null,
            "object_fit": null,
            "object_position": null,
            "order": null,
            "overflow": null,
            "overflow_x": null,
            "overflow_y": null,
            "padding": null,
            "right": null,
            "top": null,
            "visibility": null,
            "width": null
          }
        },
        "9a50d2caae1140f1a9d84f2bdf645cf7": {
          "model_module": "@jupyter-widgets/controls",
          "model_module_version": "1.5.0",
          "model_name": "FloatProgressModel",
          "state": {
            "_dom_classes": [],
            "_model_module": "@jupyter-widgets/controls",
            "_model_module_version": "1.5.0",
            "_model_name": "FloatProgressModel",
            "_view_count": null,
            "_view_module": "@jupyter-widgets/controls",
            "_view_module_version": "1.5.0",
            "_view_name": "ProgressView",
            "bar_style": "success",
            "description": "",
            "description_tooltip": null,
            "layout": "IPY_MODEL_7ca89e6912dd4860876192b0b3c8da02",
            "max": 1589,
            "min": 0,
            "orientation": "horizontal",
            "style": "IPY_MODEL_59d260262e124417a91b67e80a0dfe9e",
            "value": 1589
          }
        },
        "9c8e6b36817a4cec9b1696e98c25a2be": {
          "model_module": "@jupyter-widgets/base",
          "model_module_version": "1.2.0",
          "model_name": "LayoutModel",
          "state": {
            "_model_module": "@jupyter-widgets/base",
            "_model_module_version": "1.2.0",
            "_model_name": "LayoutModel",
            "_view_count": null,
            "_view_module": "@jupyter-widgets/base",
            "_view_module_version": "1.2.0",
            "_view_name": "LayoutView",
            "align_content": null,
            "align_items": null,
            "align_self": null,
            "border": null,
            "bottom": null,
            "display": null,
            "flex": null,
            "flex_flow": null,
            "grid_area": null,
            "grid_auto_columns": null,
            "grid_auto_flow": null,
            "grid_auto_rows": null,
            "grid_column": null,
            "grid_gap": null,
            "grid_row": null,
            "grid_template_areas": null,
            "grid_template_columns": null,
            "grid_template_rows": null,
            "height": null,
            "justify_content": null,
            "justify_items": null,
            "left": null,
            "margin": null,
            "max_height": null,
            "max_width": null,
            "min_height": null,
            "min_width": null,
            "object_fit": null,
            "object_position": null,
            "order": null,
            "overflow": null,
            "overflow_x": null,
            "overflow_y": null,
            "padding": null,
            "right": null,
            "top": null,
            "visibility": null,
            "width": null
          }
        },
        "9cd41fa993e042f0b1b6967f9498c3a8": {
          "model_module": "@jupyter-widgets/controls",
          "model_module_version": "1.5.0",
          "model_name": "HTMLModel",
          "state": {
            "_dom_classes": [],
            "_model_module": "@jupyter-widgets/controls",
            "_model_module_version": "1.5.0",
            "_model_name": "HTMLModel",
            "_view_count": null,
            "_view_module": "@jupyter-widgets/controls",
            "_view_module_version": "1.5.0",
            "_view_name": "HTMLView",
            "description": "",
            "description_tooltip": null,
            "layout": "IPY_MODEL_f37dcc2e3d6d4455a321b780bde43c76",
            "placeholder": "​",
            "style": "IPY_MODEL_db538957fd4f46b0a3bff4a0971de467",
            "value": " 6354/6354 [00:01&lt;00:00, 5022.88it/s]"
          }
        },
        "adce26660c0043bcb404186e823ce43e": {
          "model_module": "@jupyter-widgets/controls",
          "model_module_version": "1.5.0",
          "model_name": "ProgressStyleModel",
          "state": {
            "_model_module": "@jupyter-widgets/controls",
            "_model_module_version": "1.5.0",
            "_model_name": "ProgressStyleModel",
            "_view_count": null,
            "_view_module": "@jupyter-widgets/base",
            "_view_module_version": "1.2.0",
            "_view_name": "StyleView",
            "bar_color": null,
            "description_width": ""
          }
        },
        "ccbbb25168d74225874660479adcb230": {
          "model_module": "@jupyter-widgets/base",
          "model_module_version": "1.2.0",
          "model_name": "LayoutModel",
          "state": {
            "_model_module": "@jupyter-widgets/base",
            "_model_module_version": "1.2.0",
            "_model_name": "LayoutModel",
            "_view_count": null,
            "_view_module": "@jupyter-widgets/base",
            "_view_module_version": "1.2.0",
            "_view_name": "LayoutView",
            "align_content": null,
            "align_items": null,
            "align_self": null,
            "border": null,
            "bottom": null,
            "display": null,
            "flex": null,
            "flex_flow": null,
            "grid_area": null,
            "grid_auto_columns": null,
            "grid_auto_flow": null,
            "grid_auto_rows": null,
            "grid_column": null,
            "grid_gap": null,
            "grid_row": null,
            "grid_template_areas": null,
            "grid_template_columns": null,
            "grid_template_rows": null,
            "height": null,
            "justify_content": null,
            "justify_items": null,
            "left": null,
            "margin": null,
            "max_height": null,
            "max_width": null,
            "min_height": null,
            "min_width": null,
            "object_fit": null,
            "object_position": null,
            "order": null,
            "overflow": null,
            "overflow_x": null,
            "overflow_y": null,
            "padding": null,
            "right": null,
            "top": null,
            "visibility": null,
            "width": null
          }
        },
        "db538957fd4f46b0a3bff4a0971de467": {
          "model_module": "@jupyter-widgets/controls",
          "model_module_version": "1.5.0",
          "model_name": "DescriptionStyleModel",
          "state": {
            "_model_module": "@jupyter-widgets/controls",
            "_model_module_version": "1.5.0",
            "_model_name": "DescriptionStyleModel",
            "_view_count": null,
            "_view_module": "@jupyter-widgets/base",
            "_view_module_version": "1.2.0",
            "_view_name": "StyleView",
            "description_width": ""
          }
        },
        "e774e9b5450d4287a00a63c3481cbcfb": {
          "model_module": "@jupyter-widgets/controls",
          "model_module_version": "1.5.0",
          "model_name": "HTMLModel",
          "state": {
            "_dom_classes": [],
            "_model_module": "@jupyter-widgets/controls",
            "_model_module_version": "1.5.0",
            "_model_name": "HTMLModel",
            "_view_count": null,
            "_view_module": "@jupyter-widgets/controls",
            "_view_module_version": "1.5.0",
            "_view_name": "HTMLView",
            "description": "",
            "description_tooltip": null,
            "layout": "IPY_MODEL_ccbbb25168d74225874660479adcb230",
            "placeholder": "​",
            "style": "IPY_MODEL_07b458cf97424d7692e03c7fcdf5b650",
            "value": "Converting examples to features: 100%"
          }
        },
        "f37dcc2e3d6d4455a321b780bde43c76": {
          "model_module": "@jupyter-widgets/base",
          "model_module_version": "1.2.0",
          "model_name": "LayoutModel",
          "state": {
            "_model_module": "@jupyter-widgets/base",
            "_model_module_version": "1.2.0",
            "_model_name": "LayoutModel",
            "_view_count": null,
            "_view_module": "@jupyter-widgets/base",
            "_view_module_version": "1.2.0",
            "_view_name": "LayoutView",
            "align_content": null,
            "align_items": null,
            "align_self": null,
            "border": null,
            "bottom": null,
            "display": null,
            "flex": null,
            "flex_flow": null,
            "grid_area": null,
            "grid_auto_columns": null,
            "grid_auto_flow": null,
            "grid_auto_rows": null,
            "grid_column": null,
            "grid_gap": null,
            "grid_row": null,
            "grid_template_areas": null,
            "grid_template_columns": null,
            "grid_template_rows": null,
            "height": null,
            "justify_content": null,
            "justify_items": null,
            "left": null,
            "margin": null,
            "max_height": null,
            "max_width": null,
            "min_height": null,
            "min_width": null,
            "object_fit": null,
            "object_position": null,
            "order": null,
            "overflow": null,
            "overflow_x": null,
            "overflow_y": null,
            "padding": null,
            "right": null,
            "top": null,
            "visibility": null,
            "width": null
          }
        },
        "f805b121042a4e38996f7d82f0ef083a": {
          "model_module": "@jupyter-widgets/base",
          "model_module_version": "1.2.0",
          "model_name": "LayoutModel",
          "state": {
            "_model_module": "@jupyter-widgets/base",
            "_model_module_version": "1.2.0",
            "_model_name": "LayoutModel",
            "_view_count": null,
            "_view_module": "@jupyter-widgets/base",
            "_view_module_version": "1.2.0",
            "_view_name": "LayoutView",
            "align_content": null,
            "align_items": null,
            "align_self": null,
            "border": null,
            "bottom": null,
            "display": null,
            "flex": null,
            "flex_flow": null,
            "grid_area": null,
            "grid_auto_columns": null,
            "grid_auto_flow": null,
            "grid_auto_rows": null,
            "grid_column": null,
            "grid_gap": null,
            "grid_row": null,
            "grid_template_areas": null,
            "grid_template_columns": null,
            "grid_template_rows": null,
            "height": null,
            "justify_content": null,
            "justify_items": null,
            "left": null,
            "margin": null,
            "max_height": null,
            "max_width": null,
            "min_height": null,
            "min_width": null,
            "object_fit": null,
            "object_position": null,
            "order": null,
            "overflow": null,
            "overflow_x": null,
            "overflow_y": null,
            "padding": null,
            "right": null,
            "top": null,
            "visibility": null,
            "width": null
          }
        },
        "f9951bdcbe004d2fa05a708cfea3cd46": {
          "model_module": "@jupyter-widgets/base",
          "model_module_version": "1.2.0",
          "model_name": "LayoutModel",
          "state": {
            "_model_module": "@jupyter-widgets/base",
            "_model_module_version": "1.2.0",
            "_model_name": "LayoutModel",
            "_view_count": null,
            "_view_module": "@jupyter-widgets/base",
            "_view_module_version": "1.2.0",
            "_view_name": "LayoutView",
            "align_content": null,
            "align_items": null,
            "align_self": null,
            "border": null,
            "bottom": null,
            "display": null,
            "flex": null,
            "flex_flow": null,
            "grid_area": null,
            "grid_auto_columns": null,
            "grid_auto_flow": null,
            "grid_auto_rows": null,
            "grid_column": null,
            "grid_gap": null,
            "grid_row": null,
            "grid_template_areas": null,
            "grid_template_columns": null,
            "grid_template_rows": null,
            "height": null,
            "justify_content": null,
            "justify_items": null,
            "left": null,
            "margin": null,
            "max_height": null,
            "max_width": null,
            "min_height": null,
            "min_width": null,
            "object_fit": null,
            "object_position": null,
            "order": null,
            "overflow": null,
            "overflow_x": null,
            "overflow_y": null,
            "padding": null,
            "right": null,
            "top": null,
            "visibility": null,
            "width": null
          }
        },
        "fcd9283302c84b5cb3d89ba2b0dad0d1": {
          "model_module": "@jupyter-widgets/controls",
          "model_module_version": "1.5.0",
          "model_name": "DescriptionStyleModel",
          "state": {
            "_model_module": "@jupyter-widgets/controls",
            "_model_module_version": "1.5.0",
            "_model_name": "DescriptionStyleModel",
            "_view_count": null,
            "_view_module": "@jupyter-widgets/base",
            "_view_module_version": "1.2.0",
            "_view_name": "StyleView",
            "description_width": ""
          }
        }
      }
    }
  },
  "nbformat": 4,
  "nbformat_minor": 0
}
